{
 "cells": [
  {
   "cell_type": "markdown",
   "id": "2f7cd93d",
   "metadata": {
    "papermill": {
     "duration": 0.005064,
     "end_time": "2023-01-14T10:16:15.023636",
     "exception": false,
     "start_time": "2023-01-14T10:16:15.018572",
     "status": "completed"
    },
    "tags": []
   },
   "source": [
    "**This notebook is an exercise in the [Data Cleaning](https://www.kaggle.com/learn/data-cleaning) course.  You can reference the tutorial at [this link](https://www.kaggle.com/alexisbcook/inconsistent-data-entry).**\n",
    "\n",
    "---\n"
   ]
  },
  {
   "cell_type": "markdown",
   "id": "b5484815",
   "metadata": {
    "papermill": {
     "duration": 0.004429,
     "end_time": "2023-01-14T10:16:15.032597",
     "exception": false,
     "start_time": "2023-01-14T10:16:15.028168",
     "status": "completed"
    },
    "tags": []
   },
   "source": [
    "In this exercise, you'll apply what you learned in the **Inconsistent data entry** tutorial.\n",
    "\n",
    "# Setup\n",
    "\n",
    "The questions below will give you feedback on your work. Run the following cell to set up the feedback system."
   ]
  },
  {
   "cell_type": "code",
   "execution_count": 1,
   "id": "ae6783f7",
   "metadata": {
    "execution": {
     "iopub.execute_input": "2023-01-14T10:16:15.042894Z",
     "iopub.status.busy": "2023-01-14T10:16:15.042486Z",
     "iopub.status.idle": "2023-01-14T10:16:15.229896Z",
     "shell.execute_reply": "2023-01-14T10:16:15.228477Z"
    },
    "papermill": {
     "duration": 0.195961,
     "end_time": "2023-01-14T10:16:15.232952",
     "exception": false,
     "start_time": "2023-01-14T10:16:15.036991",
     "status": "completed"
    },
    "tags": []
   },
   "outputs": [
    {
     "name": "stdout",
     "output_type": "stream",
     "text": [
      "Setup Complete\n"
     ]
    }
   ],
   "source": [
    "from learntools.core import binder\n",
    "binder.bind(globals())\n",
    "from learntools.data_cleaning.ex5 import *\n",
    "print(\"Setup Complete\")"
   ]
  },
  {
   "cell_type": "markdown",
   "id": "1dcbdfb2",
   "metadata": {
    "papermill": {
     "duration": 0.004261,
     "end_time": "2023-01-14T10:16:15.241914",
     "exception": false,
     "start_time": "2023-01-14T10:16:15.237653",
     "status": "completed"
    },
    "tags": []
   },
   "source": [
    "# Get our environment set up\n",
    "\n",
    "The first thing we'll need to do is load in the libraries and dataset we'll be using.  We use the same dataset from the tutorial."
   ]
  },
  {
   "cell_type": "code",
   "execution_count": 2,
   "id": "55a6602c",
   "metadata": {
    "execution": {
     "iopub.execute_input": "2023-01-14T10:16:15.252637Z",
     "iopub.status.busy": "2023-01-14T10:16:15.252231Z",
     "iopub.status.idle": "2023-01-14T10:16:15.267080Z",
     "shell.execute_reply": "2023-01-14T10:16:15.265921Z"
    },
    "papermill": {
     "duration": 0.023161,
     "end_time": "2023-01-14T10:16:15.269692",
     "exception": false,
     "start_time": "2023-01-14T10:16:15.246531",
     "status": "completed"
    },
    "tags": []
   },
   "outputs": [],
   "source": [
    "# modules we'll use\n",
    "import pandas as pd\n",
    "import numpy as np\n",
    "\n",
    "# helpful modules\n",
    "import fuzzywuzzy\n",
    "from fuzzywuzzy import process\n",
    "import chardet\n",
    "\n",
    "# read in all our data\n",
    "professors = pd.read_csv(\"../input/pakistan-intellectual-capital/pakistan_intellectual_capital.csv\")\n",
    "\n",
    "# set seed for reproducibility\n",
    "np.random.seed(0)"
   ]
  },
  {
   "cell_type": "markdown",
   "id": "5a0403b3",
   "metadata": {
    "papermill": {
     "duration": 0.00413,
     "end_time": "2023-01-14T10:16:15.278372",
     "exception": false,
     "start_time": "2023-01-14T10:16:15.274242",
     "status": "completed"
    },
    "tags": []
   },
   "source": [
    "Next, we'll redo all of the work that we did in the tutorial."
   ]
  },
  {
   "cell_type": "code",
   "execution_count": 3,
   "id": "d9d76092",
   "metadata": {
    "execution": {
     "iopub.execute_input": "2023-01-14T10:16:15.289259Z",
     "iopub.status.busy": "2023-01-14T10:16:15.288734Z",
     "iopub.status.idle": "2023-01-14T10:16:15.303914Z",
     "shell.execute_reply": "2023-01-14T10:16:15.302560Z"
    },
    "papermill": {
     "duration": 0.023228,
     "end_time": "2023-01-14T10:16:15.305909",
     "exception": false,
     "start_time": "2023-01-14T10:16:15.282681",
     "status": "completed"
    },
    "tags": []
   },
   "outputs": [
    {
     "name": "stdout",
     "output_type": "stream",
     "text": [
      "All done!\n"
     ]
    }
   ],
   "source": [
    "# convert to lower case\n",
    "professors['Country'] = professors['Country'].str.lower()\n",
    "# remove trailing white spaces\n",
    "professors['Country'] = professors['Country'].str.strip()\n",
    "\n",
    "# get the top 10 closest matches to \"south korea\"\n",
    "countries = professors['Country'].unique()\n",
    "matches = fuzzywuzzy.process.extract(\"south korea\", countries, limit=10, scorer=fuzzywuzzy.fuzz.token_sort_ratio)\n",
    "\n",
    "def replace_matches_in_column(df, column, string_to_match, min_ratio = 47):\n",
    "    # get a list of unique strings\n",
    "    strings = df[column].unique()\n",
    "    \n",
    "    # get the top 10 closest matches to our input string\n",
    "    matches = fuzzywuzzy.process.extract(string_to_match, strings, \n",
    "                                         limit=10, scorer=fuzzywuzzy.fuzz.token_sort_ratio)\n",
    "\n",
    "    # only get matches with a ratio > 90\n",
    "    close_matches = [matches[0] for matches in matches if matches[1] >= min_ratio]\n",
    "\n",
    "    # get the rows of all the close matches in our dataframe\n",
    "    rows_with_matches = df[column].isin(close_matches)\n",
    "\n",
    "    # replace all rows with close matches with the input matches \n",
    "    df.loc[rows_with_matches, column] = string_to_match\n",
    "    \n",
    "    # let us know the function's done\n",
    "    print(\"All done!\")\n",
    "    \n",
    "replace_matches_in_column(df=professors, column='Country', string_to_match=\"south korea\")\n",
    "countries = professors['Country'].unique()"
   ]
  },
  {
   "cell_type": "markdown",
   "id": "4fd46ccf",
   "metadata": {
    "papermill": {
     "duration": 0.004941,
     "end_time": "2023-01-14T10:16:15.315212",
     "exception": false,
     "start_time": "2023-01-14T10:16:15.310271",
     "status": "completed"
    },
    "tags": []
   },
   "source": [
    "# 1) Examine another column\n",
    "\n",
    "Write code below to take a look at all the unique values in the \"Graduated from\" column."
   ]
  },
  {
   "cell_type": "code",
   "execution_count": 4,
   "id": "443e59ff",
   "metadata": {
    "execution": {
     "iopub.execute_input": "2023-01-14T10:16:15.325571Z",
     "iopub.status.busy": "2023-01-14T10:16:15.325217Z",
     "iopub.status.idle": "2023-01-14T10:16:15.333622Z",
     "shell.execute_reply": "2023-01-14T10:16:15.332440Z"
    },
    "papermill": {
     "duration": 0.01621,
     "end_time": "2023-01-14T10:16:15.335923",
     "exception": false,
     "start_time": "2023-01-14T10:16:15.319713",
     "status": "completed"
    },
    "tags": []
   },
   "outputs": [
    {
     "name": "stdout",
     "output_type": "stream",
     "text": [
      "[' Columbia University' ' Delft University of Technology'\n",
      " ' Iowa State University' ' University of Central Florida'\n",
      " ' University of Innsbruck' ' University of Texas at Arlington (UTA)'\n",
      " ' University of Turin' 'Abasyn University'\n",
      " 'Abdul Wali Khan University, Mardan'\n",
      " 'Abdus Salam School of Mathematical Sciences,GC University'\n",
      " 'Agricultural University Peshawar' 'Allama Iqbal Open University'\n",
      " 'Asian Institute of Technology' 'Aston University, Birmingham'\n",
      " 'Australian National University, Caneberra' 'BUKC'\n",
      " 'Bahauddin Zakariya University' 'Bahria University'\n",
      " 'Bahria University,Islamabad'\n",
      " 'Balochistan University of Information Technology, Engineering and Management Sciences'\n",
      " 'Barani Institute of Information Technology'\n",
      " 'Beaconhouse National University' 'Beihang University'\n",
      " 'Beijing Institute of Technology'\n",
      " 'Beijing Institute of Technology Beijing'\n",
      " 'Beijing University of Posts & Telecommunications'\n",
      " 'Biztek Institute Of Business & Technology,Karachi'\n",
      " 'Blekinge Institute of Technology' 'Brock University Canada'\n",
      " 'Brunel University'\n",
      " 'CECOS University of Information Technology and Emerging Sciences,Peshawar'\n",
      " 'COMSATS Institute of Information Technology'\n",
      " 'COMSATS Institute of Information Technology,Islamabad'\n",
      " 'COMSATS Institute of Information Technology,Lahore'\n",
      " 'COMSATS Institute of Information Technology,Vehari'\n",
      " 'COMSATS Institute of Information Technology,Wah Cantt'\n",
      " 'California State University'\n",
      " 'Capital University of Science & Technology'\n",
      " 'Capital University of Science and Technology'\n",
      " 'Carnegie Mellon University, Pittsburgh'\n",
      " 'Centre for Advanced Studies in Engineering'\n",
      " 'Chalmers University of Technology' 'Chinese Academy of Sciences'\n",
      " 'Chosun University' 'City University of Science and Technology'\n",
      " 'Colorado State University' 'Colorado Technical University'\n",
      " 'Columbia University' 'Concordia University,Montreal'\n",
      " 'Coventry University' 'Cranfield University' 'DUET,Karachi'\n",
      " 'DePaul University, Chicago'\n",
      " 'Dresden University Of Technology, Dresden\\xa0'\n",
      " 'Eindhoven University of Technology (TU/e)'\n",
      " 'FAST– National University of Computer and Emerging Sciences'\n",
      " 'FAST– National University of Computer and Emerging Sciences,Chiniot-Faisalabad'\n",
      " 'FAST– National University of Computer and Emerging Sciences,Islamabad'\n",
      " 'FAST– National University of Computer and Emerging Sciences,Lahore'\n",
      " 'FAST– National University of Computer and Emerging Sciences,Peshawar'\n",
      " 'Fatima Jinnah Women University, Rawalpindi' 'Fedral Urdu University'\n",
      " 'Florida Atlantic University' 'Foundation University'\n",
      " 'Galilée - Université Paris 13' 'George Mason University'\n",
      " 'George Washington University' 'Georgetown University,DC'\n",
      " 'Ghulam Ishaq Khan Institute of Science and Technology'\n",
      " 'Gomal University' 'Government College University'\n",
      " 'Government College University, Faisalabad'\n",
      " 'Government College University,Faisalabad'\n",
      " 'Graz University of Technology' 'Grenoble' 'Griffith University'\n",
      " 'Griffith University,Nathan Campus' 'Guildford'\n",
      " 'Gwangju Institute of Science and Technology' 'HITEC University,Taxila'\n",
      " 'Hamburg University of Technology' 'Hamdard University'\n",
      " 'Hanyang University, Ansan' 'Harbin Institute of Technology'\n",
      " 'Huazhong University of Science and Technology (HUST), Wuhan'\n",
      " 'IBMS KP Agricultural University Peshawar' 'INRIA Saclay Ile-de-France'\n",
      " 'INSA de Lyon, Rhone' 'IQRA University' 'IQRA University,Islamabad'\n",
      " 'IQRA University,Karachi' 'ISRA University'\n",
      " 'Illinois Institute of Technology' 'Ilmenau University of Technology'\n",
      " 'Imperial College, University of London'\n",
      " 'Information Technology University (ITU)'\n",
      " 'Institute Of Managment Sciences, Peshawar'\n",
      " 'Institute of Business Administration'\n",
      " 'Institute of Business Administration,Karachi'\n",
      " 'Institute of Business Administration,Sukkur'\n",
      " 'Institute of Management Sciences, Peshawar'\n",
      " 'International Islamic University'\n",
      " 'International Islamic University,Islamabad'\n",
      " 'Islamia College University ' 'JKU' 'JNU' 'Jinnah University for Women'\n",
      " 'John Moorse University, Liverpool' 'Jonkoping University'\n",
      " 'KTH Royal Institute of Technology'\n",
      " 'King Abdullah University of Science and Technology'\n",
      " 'Kingston University London'\n",
      " 'Kohat University of Science & Technology, Kohat' 'Kyung Hee University'\n",
      " 'Kyungpook National University' 'Kyushu University,Fukuoka'\n",
      " 'Lahore College for Women University' 'Lahore Leads University'\n",
      " 'Lahore University of Management Sciences' 'Linköping University'\n",
      " 'Liverpool John Moores University' 'London University'\n",
      " 'Loughborough University' 'Manchester Metropolitan University'\n",
      " 'Manchester University' 'Massachusetts Institute of Technology'\n",
      " 'Max Planck Institute for Computer Science'\n",
      " 'Mehran University of Engineering & Technology' 'Mid Sweden University'\n",
      " 'Middle East Technical University' 'Middlesex University'\n",
      " 'Minhaj University Lahore' 'Mohammad Ali Jinnah University'\n",
      " 'Monash University' 'Muroran Institute of Technology,Hokkaido'\n",
      " 'Myongji University' 'NCSU'\n",
      " 'NED University of Engineering And Technology' 'Nancy 2 University'\n",
      " 'Nanyang Tech University'\n",
      " 'National College of Business Administration and Economics'\n",
      " 'National Textile University' 'National University of Modern Languages'\n",
      " 'National University of Modern Languages,Islamabad'\n",
      " 'National University of Sciences and Technology'\n",
      " 'National University of Singapore' 'New York Institute of Technology'\n",
      " 'North Dakota State University' 'Northeastern University,Boston'\n",
      " 'Norwegian University of Science and Technology (NTNU),'\n",
      " 'Nottingham Trent University' 'Oxford Brookes University'\n",
      " 'PAF-Karachi Institute of Economics and Technology'\n",
      " 'Pace University, New York'\n",
      " 'Pakistan Institute of Engineering and Applied Sciences'\n",
      " 'Paris Descartes University' 'Paris Tech University of Eurecom'\n",
      " 'Pir Mehr Ali Shah Arid Agriculture University'\n",
      " 'Pohang University of Science and Technology' 'Politecnico di Milano'\n",
      " 'Politecnico di Torino' 'Pompeu Fabra University Barcelona' 'Preston'\n",
      " 'Punjab University College of Information Technology' 'Purdue University'\n",
      " 'Quaid-e-Awam University of Engineering, Science & Technology'\n",
      " 'Quaid-i-Azam University' 'Queen Mary University of London'\n",
      " 'RWTH Aachen University'\n",
      " 'Razak School of Engineering and Advanced Technology, Universiti Teknologi Malaysia (UTM)'\n",
      " 'Riphah International University'\n",
      " 'Riphah International University,Faisalabad'\n",
      " 'Rutgers State University of New Jersey, NJ' 'SRH Hochschule Heidelberg'\n",
      " 'SSindh Agriculture University' 'Saarland University'\n",
      " 'Sapienza University of Rome' \"Sardar Bahadur Khan Women's University\"\n",
      " 'Seoul National University' 'Shah Abdul Latif University, Khairpur'\n",
      " 'Shaheed Zulfikar Ali Bhutto Institute of Science and Technology'\n",
      " 'Shaheed Zulfikar Ali Bhutto Institute of Science and Technology,Islamabad'\n",
      " 'Sindh Agriculture University' 'Sindh University'\n",
      " 'Sir Syed University of Engineering and Technology'\n",
      " 'Skolkovo Institute of Science and Technology,\\xa0'\n",
      " 'South Asian University' 'Staffordshire University' 'Stanford University'\n",
      " 'State University of New York System' 'Stockholm University'\n",
      " 'Sungkyunkwan University' 'Superior University, Lahore' 'Swansea'\n",
      " 'Swedish University of Agricultural Sciences, Uppsala'\n",
      " 'Swinburne University Of Technology' 'TU Berlin' 'TU Wien'\n",
      " 'Technical University of Braunschweig' 'Technical University of Graz'\n",
      " 'Temple University' 'The Islamia University of Bahawalpur '\n",
      " 'The Ohio State University' 'The Queens University of Belfast'\n",
      " 'The State University of New Jersey' 'The University of Auckland'\n",
      " 'The University of Birmingham' 'The University of Cambridge'\n",
      " 'The University of Leeds' 'The University of Manchester'\n",
      " 'The University of Queensland' 'The University of Texas at Austin'\n",
      " 'The University of York' 'Tilburg University'\n",
      " 'Tokyo Institute of Technology' 'Tsinghua University'\n",
      " 'United Nations University International Institute for Software Technology (UNU-IIST)'\n",
      " 'Univ of Porto/Univ of Aveiro Portugal/Uni of Minho'\n",
      " \"Universite d'Evry Val d'Essonne\" 'Universiti Putra Malaysia Putra'\n",
      " 'Universiti Technologi' 'Universiti Teknologi PETRONAS'\n",
      " 'Universiti Tun Hussein Onn Malaysia'\n",
      " 'University Institute of Information Technology' 'University Of Caen'\n",
      " 'University Of Oslo' 'University Of Salford'\n",
      " 'University Of Southern California' 'University Of Waterloo'\n",
      " 'University Paris' 'University of Abertay Dundee'\n",
      " 'University of Agriculture' 'University of Agriculture Faisalabad'\n",
      " 'University of Agriculture, Faisalabad'\n",
      " 'University of Agriculture, Faisalabad\\xa0'\n",
      " 'University of Arid Agriculture' 'University of Balochistan'\n",
      " 'University of Bath' 'University of Bayreuth'\n",
      " 'University of BedfordShire' 'University of Bedfordshire'\n",
      " 'University of Bergen' 'University of Birmingham' 'University of Bologna'\n",
      " 'University of Bonn' 'University of Bradford' 'University of Bristol'\n",
      " 'University of British Columbia' 'University of Canterbury'\n",
      " 'University of Central Florida' 'University of Central Missouri'\n",
      " 'University of Central Punjab' 'University of Colorado\\xa0'\n",
      " 'University of Dundee' 'University of Engineering & Technology'\n",
      " 'University of Engineering and Technology'\n",
      " 'University of Engineering and Technology,Peshawar'\n",
      " 'University of Engineering and Technology,Taxila' 'University of Essex'\n",
      " 'University of Florida' 'University of Freiburg' 'University of Genova'\n",
      " 'University of Glasgow' 'University of Grenoble' 'University of Gujrat'\n",
      " 'University of Huddersfield' 'University of Illinois'\n",
      " 'University of Innsbruck' 'University of Karachi' 'University of Kent'\n",
      " 'University of Konstanz' 'University of Kuala Lumpur'\n",
      " 'University of Lahore' 'University of Leeds' 'University of Leicester'\n",
      " 'University of Limerick' 'University of Liverpool' 'University of Malaga'\n",
      " 'University of Malaya' 'University of Management and Technology'\n",
      " 'University of Manchester'\n",
      " 'University of Manchester Institute of Science and Technology'\n",
      " 'University of Mississippi\\xa0' 'University of New South Wales, Sydney'\n",
      " 'University of Nice, Sophia Antipolis' 'University of Northampton'\n",
      " 'University of Notre Dame Indiana\\xa0' 'University of Orleans'\n",
      " 'University of Oviedo' 'University of Paisley' 'University of Paris'\n",
      " 'University of Paris-Est' 'University of Patras' 'University of Peshawar'\n",
      " 'University of Pittsburgh' 'University of Plymouth' 'University of Porto'\n",
      " 'University of Regina' 'University of Rochester'\n",
      " 'University of Rome Tor Vergata' 'University of Saarland'\n",
      " 'University of Salford'\n",
      " 'University of Shanghai for Science and Technology'\n",
      " 'University of South Australia' 'University of South Brittany'\n",
      " 'University of South Florida' 'University of Southampton'\n",
      " 'University of Southern California' 'University of Stirling'\n",
      " 'University of Stuttgart' 'University of Sunderland'\n",
      " 'University of Surrey' 'University of Sussex' 'University of Technology'\n",
      " 'University of Trento' 'University of Turbat' 'University of Ulm'\n",
      " 'University of Vienna' 'University of Virginia' 'University of Wales'\n",
      " 'University of Wales,Aberystwyth' 'University of Westminster'\n",
      " 'University of York' 'University of the Punjab'\n",
      " 'University of the Punjab,Gujranwala' 'University of the West Scotland'\n",
      " 'University of\\xa0Liverpool John Moores University'\n",
      " 'Universität Salzburg' 'Université Henri Poincaré, Nancy 1,'\n",
      " 'Université de la Rochelle' 'Universtiy of Karachi'\n",
      " 'Universtiy of Lahore' 'Uppsala University'\n",
      " 'Usman Institute of Technology'\n",
      " 'Usman Institute of Technology (Hamdard University)'\n",
      " 'Vienna University of Technology' 'Virtual University of Pakistan'\n",
      " 'Vrije University, Amsterdam' 'Wayne State University'\n",
      " 'Xiamen university' 'Zhejiang University' '\\xa0Boston University'\n",
      " '\\xa0Hongik University' '\\xa0Nanyang Technological University'\n",
      " '\\xa0National University of Sciences and Technology-NIIT'\n",
      " '\\xa0University of Bedfordshire' '\\xa0University of Bonn'\n",
      " '\\xa0University of Missouri, KC' '\\xa0University of Windsor'\n",
      " 'Åbo Akademi University,']\n"
     ]
    }
   ],
   "source": [
    "# TODO: Your code here\n",
    "graduated = professors['Graduated from'].unique()\n",
    "graduated.sort()\n",
    "print(graduated)"
   ]
  },
  {
   "cell_type": "markdown",
   "id": "a02f63d9",
   "metadata": {
    "papermill": {
     "duration": 0.005816,
     "end_time": "2023-01-14T10:16:15.346611",
     "exception": false,
     "start_time": "2023-01-14T10:16:15.340795",
     "status": "completed"
    },
    "tags": []
   },
   "source": [
    "Do you notice any inconsistencies in the data?  Can any of the inconsistencies in the data be fixed by removing white spaces at the beginning and end of cells?\n",
    "\n",
    "Once you have answered these questions, run the code cell below to get credit for your work."
   ]
  },
  {
   "cell_type": "code",
   "execution_count": 5,
   "id": "b158be5b",
   "metadata": {
    "execution": {
     "iopub.execute_input": "2023-01-14T10:16:15.359080Z",
     "iopub.status.busy": "2023-01-14T10:16:15.358694Z",
     "iopub.status.idle": "2023-01-14T10:16:15.370229Z",
     "shell.execute_reply": "2023-01-14T10:16:15.369006Z"
    },
    "papermill": {
     "duration": 0.020909,
     "end_time": "2023-01-14T10:16:15.372835",
     "exception": false,
     "start_time": "2023-01-14T10:16:15.351926",
     "status": "completed"
    },
    "tags": []
   },
   "outputs": [
    {
     "data": {
      "application/javascript": [
       "parent.postMessage({\"jupyterEvent\": \"custom.exercise_interaction\", \"data\": {\"outcomeType\": 1, \"valueTowardsCompletion\": 0.3333333333333333, \"interactionType\": 1, \"questionType\": 4, \"questionId\": \"1_ExamineProvince\", \"learnToolsVersion\": \"0.3.4\", \"failureMessage\": \"\", \"exceptionClass\": \"\", \"trace\": \"\"}}, \"*\")"
      ],
      "text/plain": [
       "<IPython.core.display.Javascript object>"
      ]
     },
     "metadata": {},
     "output_type": "display_data"
    },
    {
     "data": {
      "text/markdown": [
       "<span style=\"color:#33cc33\">Correct:</span> \n",
       "\n",
       "There are inconsistencies that can be fixed by removing white spaces at the beginning and end of cells.  For instance, \"University of Central Florida\" and \" University of Central Florida\" both appear in the column."
      ],
      "text/plain": [
       "Correct: \n",
       "\n",
       "There are inconsistencies that can be fixed by removing white spaces at the beginning and end of cells.  For instance, \"University of Central Florida\" and \" University of Central Florida\" both appear in the column."
      ]
     },
     "metadata": {},
     "output_type": "display_data"
    }
   ],
   "source": [
    "# Check your answer (Run this code cell to receive credit!)\n",
    "q1.check()\n"
   ]
  },
  {
   "cell_type": "code",
   "execution_count": 6,
   "id": "f9c54877",
   "metadata": {
    "execution": {
     "iopub.execute_input": "2023-01-14T10:16:15.385976Z",
     "iopub.status.busy": "2023-01-14T10:16:15.384665Z",
     "iopub.status.idle": "2023-01-14T10:16:15.389845Z",
     "shell.execute_reply": "2023-01-14T10:16:15.388782Z"
    },
    "papermill": {
     "duration": 0.014203,
     "end_time": "2023-01-14T10:16:15.392461",
     "exception": false,
     "start_time": "2023-01-14T10:16:15.378258",
     "status": "completed"
    },
    "tags": []
   },
   "outputs": [],
   "source": [
    "# Line below will give you a hint\n",
    "#q1.hint()"
   ]
  },
  {
   "cell_type": "markdown",
   "id": "b827d88f",
   "metadata": {
    "papermill": {
     "duration": 0.004798,
     "end_time": "2023-01-14T10:16:15.402531",
     "exception": false,
     "start_time": "2023-01-14T10:16:15.397733",
     "status": "completed"
    },
    "tags": []
   },
   "source": [
    "# 2) Do some text pre-processing\n",
    "\n",
    "Convert every entry in the \"Graduated from\" column in the `professors` DataFrame to remove white spaces at the beginning and end of cells."
   ]
  },
  {
   "cell_type": "code",
   "execution_count": 7,
   "id": "affb1c8b",
   "metadata": {
    "execution": {
     "iopub.execute_input": "2023-01-14T10:16:15.414354Z",
     "iopub.status.busy": "2023-01-14T10:16:15.414002Z",
     "iopub.status.idle": "2023-01-14T10:16:15.425470Z",
     "shell.execute_reply": "2023-01-14T10:16:15.424560Z"
    },
    "papermill": {
     "duration": 0.019496,
     "end_time": "2023-01-14T10:16:15.427171",
     "exception": false,
     "start_time": "2023-01-14T10:16:15.407675",
     "status": "completed"
    },
    "tags": []
   },
   "outputs": [
    {
     "data": {
      "application/javascript": [
       "parent.postMessage({\"jupyterEvent\": \"custom.exercise_interaction\", \"data\": {\"outcomeType\": 1, \"valueTowardsCompletion\": 0.3333333333333333, \"interactionType\": 1, \"questionType\": 1, \"questionId\": \"2_TextProcessing\", \"learnToolsVersion\": \"0.3.4\", \"failureMessage\": \"\", \"exceptionClass\": \"\", \"trace\": \"\"}}, \"*\")"
      ],
      "text/plain": [
       "<IPython.core.display.Javascript object>"
      ]
     },
     "metadata": {},
     "output_type": "display_data"
    },
    {
     "data": {
      "text/markdown": [
       "<span style=\"color:#33cc33\">Correct</span>"
      ],
      "text/plain": [
       "Correct"
      ]
     },
     "metadata": {},
     "output_type": "display_data"
    }
   ],
   "source": [
    "# TODO: Your code here\n",
    "professors['Graduated from'] = professors['Graduated from'].str.strip()\n",
    "\n",
    "# Check your answer\n",
    "q2.check()"
   ]
  },
  {
   "cell_type": "code",
   "execution_count": 8,
   "id": "6f26b1e5",
   "metadata": {
    "execution": {
     "iopub.execute_input": "2023-01-14T10:16:15.439058Z",
     "iopub.status.busy": "2023-01-14T10:16:15.438710Z",
     "iopub.status.idle": "2023-01-14T10:16:15.443219Z",
     "shell.execute_reply": "2023-01-14T10:16:15.442124Z"
    },
    "papermill": {
     "duration": 0.012735,
     "end_time": "2023-01-14T10:16:15.445107",
     "exception": false,
     "start_time": "2023-01-14T10:16:15.432372",
     "status": "completed"
    },
    "tags": []
   },
   "outputs": [],
   "source": [
    "# Lines below will give you a hint or solution code\n",
    "#q2.hint()\n",
    "#q2.solution()"
   ]
  },
  {
   "cell_type": "markdown",
   "id": "5dcf703e",
   "metadata": {
    "papermill": {
     "duration": 0.004927,
     "end_time": "2023-01-14T10:16:15.455267",
     "exception": false,
     "start_time": "2023-01-14T10:16:15.450340",
     "status": "completed"
    },
    "tags": []
   },
   "source": [
    "# 3) Continue working with countries\n",
    "\n",
    "In the tutorial, we focused on cleaning up inconsistencies in the \"Country\" column.  Run the code cell below to view the list of unique values that we ended with."
   ]
  },
  {
   "cell_type": "code",
   "execution_count": 9,
   "id": "d1bfc847",
   "metadata": {
    "execution": {
     "iopub.execute_input": "2023-01-14T10:16:15.469496Z",
     "iopub.status.busy": "2023-01-14T10:16:15.469092Z",
     "iopub.status.idle": "2023-01-14T10:16:15.477658Z",
     "shell.execute_reply": "2023-01-14T10:16:15.476360Z"
    },
    "papermill": {
     "duration": 0.018493,
     "end_time": "2023-01-14T10:16:15.480448",
     "exception": false,
     "start_time": "2023-01-14T10:16:15.461955",
     "status": "completed"
    },
    "tags": []
   },
   "outputs": [
    {
     "data": {
      "text/plain": [
       "array(['australia', 'austria', 'canada', 'china', 'finland', 'france',\n",
       "       'germany', 'greece', 'hongkong', 'ireland', 'italy', 'japan',\n",
       "       'macau', 'malaysia', 'mauritius', 'netherland', 'new zealand',\n",
       "       'norway', 'pakistan', 'portugal', 'russian federation',\n",
       "       'saudi arabia', 'scotland', 'singapore', 'south korea', 'spain',\n",
       "       'sweden', 'thailand', 'turkey', 'uk', 'urbana', 'usa', 'usofa'],\n",
       "      dtype=object)"
      ]
     },
     "execution_count": 9,
     "metadata": {},
     "output_type": "execute_result"
    }
   ],
   "source": [
    "# get all the unique values in the 'City' column\n",
    "countries = professors['Country'].unique()\n",
    "\n",
    "# sort them alphabetically and then take a closer look\n",
    "countries.sort()\n",
    "countries"
   ]
  },
  {
   "cell_type": "markdown",
   "id": "12b0e029",
   "metadata": {
    "papermill": {
     "duration": 0.005521,
     "end_time": "2023-01-14T10:16:15.491933",
     "exception": false,
     "start_time": "2023-01-14T10:16:15.486412",
     "status": "completed"
    },
    "tags": []
   },
   "source": [
    "Take another look at the \"Country\" column and see if there's any more data cleaning we need to do.\n",
    "\n",
    "It looks like 'usa' and 'usofa' should be the same country.  Correct the \"Country\" column in the dataframe to replace 'usofa' with 'usa'.\n",
    "\n",
    "**Use the most recent version of the DataFrame (with the whitespaces at the beginning and end of cells removed) from question 2.**"
   ]
  },
  {
   "cell_type": "code",
   "execution_count": 10,
   "id": "5cad63f1",
   "metadata": {
    "execution": {
     "iopub.execute_input": "2023-01-14T10:16:15.504961Z",
     "iopub.status.busy": "2023-01-14T10:16:15.504583Z",
     "iopub.status.idle": "2023-01-14T10:16:15.517954Z",
     "shell.execute_reply": "2023-01-14T10:16:15.516746Z"
    },
    "papermill": {
     "duration": 0.022588,
     "end_time": "2023-01-14T10:16:15.520394",
     "exception": false,
     "start_time": "2023-01-14T10:16:15.497806",
     "status": "completed"
    },
    "tags": []
   },
   "outputs": [
    {
     "name": "stdout",
     "output_type": "stream",
     "text": [
      "All done!\n"
     ]
    },
    {
     "data": {
      "application/javascript": [
       "parent.postMessage({\"jupyterEvent\": \"custom.exercise_interaction\", \"data\": {\"outcomeType\": 1, \"valueTowardsCompletion\": 0.3333333333333333, \"interactionType\": 1, \"questionType\": 1, \"questionId\": \"3_WorkingWithCities\", \"learnToolsVersion\": \"0.3.4\", \"failureMessage\": \"\", \"exceptionClass\": \"\", \"trace\": \"\"}}, \"*\")"
      ],
      "text/plain": [
       "<IPython.core.display.Javascript object>"
      ]
     },
     "metadata": {},
     "output_type": "display_data"
    },
    {
     "data": {
      "text/markdown": [
       "<span style=\"color:#33cc33\">Correct</span>"
      ],
      "text/plain": [
       "Correct"
      ]
     },
     "metadata": {},
     "output_type": "display_data"
    }
   ],
   "source": [
    "# TODO: Your code here!\n",
    "matches = fuzzywuzzy.process.extract(\"usa\", countries, limit=10, scorer=fuzzywuzzy.fuzz.token_sort_ratio)\n",
    "replace_matches_in_column(df=professors, column='Country', string_to_match=\"usa\", min_ratio=70)\n",
    "\n",
    "# Check your answer\n",
    "q3.check()"
   ]
  },
  {
   "cell_type": "code",
   "execution_count": 11,
   "id": "1fb25b57",
   "metadata": {
    "execution": {
     "iopub.execute_input": "2023-01-14T10:16:15.533236Z",
     "iopub.status.busy": "2023-01-14T10:16:15.532894Z",
     "iopub.status.idle": "2023-01-14T10:16:15.536361Z",
     "shell.execute_reply": "2023-01-14T10:16:15.535598Z"
    },
    "papermill": {
     "duration": 0.011787,
     "end_time": "2023-01-14T10:16:15.538017",
     "exception": false,
     "start_time": "2023-01-14T10:16:15.526230",
     "status": "completed"
    },
    "tags": []
   },
   "outputs": [],
   "source": [
    "# Lines below will give you a hint or solution code\n",
    "#q3.hint()\n",
    "#q3.solution()"
   ]
  },
  {
   "cell_type": "markdown",
   "id": "8e25a24a",
   "metadata": {
    "papermill": {
     "duration": 0.005523,
     "end_time": "2023-01-14T10:16:15.549309",
     "exception": false,
     "start_time": "2023-01-14T10:16:15.543786",
     "status": "completed"
    },
    "tags": []
   },
   "source": [
    "# Congratulations!\n",
    "\n",
    "Congratulations for completing the **Data Cleaning** course on Kaggle Learn!\n",
    "\n",
    "To practice your new skills, you're encouraged to download and investigate some of [Kaggle's Datasets](https://www.kaggle.com/datasets)."
   ]
  },
  {
   "cell_type": "markdown",
   "id": "7dad135e",
   "metadata": {
    "papermill": {
     "duration": 0.005417,
     "end_time": "2023-01-14T10:16:15.560388",
     "exception": false,
     "start_time": "2023-01-14T10:16:15.554971",
     "status": "completed"
    },
    "tags": []
   },
   "source": [
    "---\n",
    "\n",
    "\n",
    "\n",
    "\n",
    "*Have questions or comments? Visit the [course discussion forum](https://www.kaggle.com/learn/data-cleaning/discussion) to chat with other learners.*"
   ]
  }
 ],
 "metadata": {
  "kernelspec": {
   "display_name": "Python 3",
   "language": "python",
   "name": "python3"
  },
  "language_info": {
   "codemirror_mode": {
    "name": "ipython",
    "version": 3
   },
   "file_extension": ".py",
   "mimetype": "text/x-python",
   "name": "python",
   "nbconvert_exporter": "python",
   "pygments_lexer": "ipython3",
   "version": "3.7.12"
  },
  "papermill": {
   "default_parameters": {},
   "duration": 8.682749,
   "end_time": "2023-01-14T10:16:16.185918",
   "environment_variables": {},
   "exception": null,
   "input_path": "__notebook__.ipynb",
   "output_path": "__notebook__.ipynb",
   "parameters": {},
   "start_time": "2023-01-14T10:16:07.503169",
   "version": "2.3.4"
  }
 },
 "nbformat": 4,
 "nbformat_minor": 5
}
