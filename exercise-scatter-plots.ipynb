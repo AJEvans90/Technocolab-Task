{
 "cells": [
  {
   "cell_type": "markdown",
   "id": "2a09f431",
   "metadata": {
    "papermill": {
     "duration": 0.007773,
     "end_time": "2023-01-14T14:35:37.538535",
     "exception": false,
     "start_time": "2023-01-14T14:35:37.530762",
     "status": "completed"
    },
    "tags": []
   },
   "source": [
    "**This notebook is an exercise in the [Data Visualization](https://www.kaggle.com/learn/data-visualization) course.  You can reference the tutorial at [this link](https://www.kaggle.com/alexisbcook/scatter-plots).**\n",
    "\n",
    "---\n"
   ]
  },
  {
   "cell_type": "markdown",
   "id": "20c787f0",
   "metadata": {
    "papermill": {
     "duration": 0.006626,
     "end_time": "2023-01-14T14:35:37.552171",
     "exception": false,
     "start_time": "2023-01-14T14:35:37.545545",
     "status": "completed"
    },
    "tags": []
   },
   "source": [
    "In this exercise, you will use your new knowledge to propose a solution to a real-world scenario.  To succeed, you will need to import data into Python, answer questions using the data, and generate **scatter plots** to understand patterns in the data.\n",
    "\n",
    "## Scenario\n",
    "\n",
    "You work for a major candy producer, and your goal is to write a report that your company can use to guide the design of its next product.  Soon after starting your research, you stumble across this [very interesting dataset](https://fivethirtyeight.com/features/the-ultimate-halloween-candy-power-ranking/) containing results from a fun survey to crowdsource favorite candies.\n",
    "\n",
    "## Setup\n",
    "\n",
    "Run the next cell to import and configure the Python libraries that you need to complete the exercise."
   ]
  },
  {
   "cell_type": "code",
   "execution_count": 1,
   "id": "854b457e",
   "metadata": {
    "execution": {
     "iopub.execute_input": "2023-01-14T14:35:37.567534Z",
     "iopub.status.busy": "2023-01-14T14:35:37.566957Z",
     "iopub.status.idle": "2023-01-14T14:35:38.379287Z",
     "shell.execute_reply": "2023-01-14T14:35:38.378464Z"
    },
    "papermill": {
     "duration": 0.822366,
     "end_time": "2023-01-14T14:35:38.381430",
     "exception": false,
     "start_time": "2023-01-14T14:35:37.559064",
     "status": "completed"
    },
    "tags": []
   },
   "outputs": [
    {
     "name": "stdout",
     "output_type": "stream",
     "text": [
      "Setup Complete\n"
     ]
    }
   ],
   "source": [
    "import pandas as pd\n",
    "pd.plotting.register_matplotlib_converters()\n",
    "import matplotlib.pyplot as plt\n",
    "%matplotlib inline\n",
    "import seaborn as sns\n",
    "print(\"Setup Complete\")"
   ]
  },
  {
   "cell_type": "markdown",
   "id": "458c64b8",
   "metadata": {
    "papermill": {
     "duration": 0.008296,
     "end_time": "2023-01-14T14:35:38.398585",
     "exception": false,
     "start_time": "2023-01-14T14:35:38.390289",
     "status": "completed"
    },
    "tags": []
   },
   "source": [
    "The questions below will give you feedback on your work. Run the following cell to set up our feedback system."
   ]
  },
  {
   "cell_type": "code",
   "execution_count": 2,
   "id": "2778688f",
   "metadata": {
    "execution": {
     "iopub.execute_input": "2023-01-14T14:35:38.416594Z",
     "iopub.status.busy": "2023-01-14T14:35:38.416066Z",
     "iopub.status.idle": "2023-01-14T14:35:38.468449Z",
     "shell.execute_reply": "2023-01-14T14:35:38.467739Z"
    },
    "papermill": {
     "duration": 0.061965,
     "end_time": "2023-01-14T14:35:38.470050",
     "exception": false,
     "start_time": "2023-01-14T14:35:38.408085",
     "status": "completed"
    },
    "tags": []
   },
   "outputs": [
    {
     "name": "stdout",
     "output_type": "stream",
     "text": [
      "Setup Complete\n"
     ]
    }
   ],
   "source": [
    "# Set up code checking\n",
    "import os\n",
    "if not os.path.exists(\"../input/candy.csv\"):\n",
    "    os.symlink(\"../input/data-for-datavis/candy.csv\", \"../input/candy.csv\") \n",
    "from learntools.core import binder\n",
    "binder.bind(globals())\n",
    "from learntools.data_viz_to_coder.ex4 import *\n",
    "print(\"Setup Complete\")"
   ]
  },
  {
   "cell_type": "markdown",
   "id": "2d389411",
   "metadata": {
    "papermill": {
     "duration": 0.006817,
     "end_time": "2023-01-14T14:35:38.484223",
     "exception": false,
     "start_time": "2023-01-14T14:35:38.477406",
     "status": "completed"
    },
    "tags": []
   },
   "source": [
    "## Step 1: Load the Data\n",
    "\n",
    "Read the candy data file into `candy_data`.  Use the `\"id\"` column to label the rows."
   ]
  },
  {
   "cell_type": "code",
   "execution_count": 3,
   "id": "f110083c",
   "metadata": {
    "execution": {
     "iopub.execute_input": "2023-01-14T14:35:38.500555Z",
     "iopub.status.busy": "2023-01-14T14:35:38.500024Z",
     "iopub.status.idle": "2023-01-14T14:35:38.512373Z",
     "shell.execute_reply": "2023-01-14T14:35:38.511741Z"
    },
    "papermill": {
     "duration": 0.021993,
     "end_time": "2023-01-14T14:35:38.513869",
     "exception": false,
     "start_time": "2023-01-14T14:35:38.491876",
     "status": "completed"
    },
    "tags": []
   },
   "outputs": [
    {
     "data": {
      "application/javascript": [
       "parent.postMessage({\"jupyterEvent\": \"custom.exercise_interaction\", \"data\": {\"outcomeType\": 1, \"valueTowardsCompletion\": 0.3333333333333333, \"interactionType\": 1, \"questionType\": 1, \"questionId\": \"1_LoadData\", \"learnToolsVersion\": \"0.3.4\", \"failureMessage\": \"\", \"exceptionClass\": \"\", \"trace\": \"\"}}, \"*\")"
      ],
      "text/plain": [
       "<IPython.core.display.Javascript object>"
      ]
     },
     "metadata": {},
     "output_type": "display_data"
    },
    {
     "data": {
      "text/markdown": [
       "<span style=\"color:#33cc33\">Correct</span>"
      ],
      "text/plain": [
       "Correct"
      ]
     },
     "metadata": {},
     "output_type": "display_data"
    }
   ],
   "source": [
    "# Path of the file to read\n",
    "candy_filepath = \"../input/candy.csv\"\n",
    "\n",
    "# Fill in the line below to read the file into a variable candy_data\n",
    "candy_data = pd.read_csv(candy_filepath,index_col='id')\n",
    "\n",
    "# Run the line below with no changes to check that you've loaded the data correctly\n",
    "step_1.check()"
   ]
  },
  {
   "cell_type": "code",
   "execution_count": 4,
   "id": "bd9ddd46",
   "metadata": {
    "execution": {
     "iopub.execute_input": "2023-01-14T14:35:38.530251Z",
     "iopub.status.busy": "2023-01-14T14:35:38.529713Z",
     "iopub.status.idle": "2023-01-14T14:35:38.532892Z",
     "shell.execute_reply": "2023-01-14T14:35:38.532281Z"
    },
    "papermill": {
     "duration": 0.012979,
     "end_time": "2023-01-14T14:35:38.534395",
     "exception": false,
     "start_time": "2023-01-14T14:35:38.521416",
     "status": "completed"
    },
    "tags": []
   },
   "outputs": [],
   "source": [
    "# Lines below will give you a hint or solution code\n",
    "#step_1.hint()\n",
    "#step_1.solution()"
   ]
  },
  {
   "cell_type": "markdown",
   "id": "0471f300",
   "metadata": {
    "papermill": {
     "duration": 0.007017,
     "end_time": "2023-01-14T14:35:38.548670",
     "exception": false,
     "start_time": "2023-01-14T14:35:38.541653",
     "status": "completed"
    },
    "tags": []
   },
   "source": [
    "## Step 2: Review the data\n",
    "\n",
    "Use a Python command to print the first five rows of the data."
   ]
  },
  {
   "cell_type": "markdown",
   "id": "102fb8da",
   "metadata": {
    "papermill": {
     "duration": 0.006968,
     "end_time": "2023-01-14T14:35:38.562839",
     "exception": false,
     "start_time": "2023-01-14T14:35:38.555871",
     "status": "completed"
    },
    "tags": []
   },
   "source": []
  },
  {
   "cell_type": "code",
   "execution_count": 5,
   "id": "6e46479e",
   "metadata": {
    "execution": {
     "iopub.execute_input": "2023-01-14T14:35:38.579216Z",
     "iopub.status.busy": "2023-01-14T14:35:38.578610Z",
     "iopub.status.idle": "2023-01-14T14:35:38.598841Z",
     "shell.execute_reply": "2023-01-14T14:35:38.598148Z"
    },
    "papermill": {
     "duration": 0.030367,
     "end_time": "2023-01-14T14:35:38.600413",
     "exception": false,
     "start_time": "2023-01-14T14:35:38.570046",
     "status": "completed"
    },
    "tags": []
   },
   "outputs": [
    {
     "data": {
      "text/html": [
       "<div>\n",
       "<style scoped>\n",
       "    .dataframe tbody tr th:only-of-type {\n",
       "        vertical-align: middle;\n",
       "    }\n",
       "\n",
       "    .dataframe tbody tr th {\n",
       "        vertical-align: top;\n",
       "    }\n",
       "\n",
       "    .dataframe thead th {\n",
       "        text-align: right;\n",
       "    }\n",
       "</style>\n",
       "<table border=\"1\" class=\"dataframe\">\n",
       "  <thead>\n",
       "    <tr style=\"text-align: right;\">\n",
       "      <th></th>\n",
       "      <th>competitorname</th>\n",
       "      <th>chocolate</th>\n",
       "      <th>fruity</th>\n",
       "      <th>caramel</th>\n",
       "      <th>peanutyalmondy</th>\n",
       "      <th>nougat</th>\n",
       "      <th>crispedricewafer</th>\n",
       "      <th>hard</th>\n",
       "      <th>bar</th>\n",
       "      <th>pluribus</th>\n",
       "      <th>sugarpercent</th>\n",
       "      <th>pricepercent</th>\n",
       "      <th>winpercent</th>\n",
       "    </tr>\n",
       "    <tr>\n",
       "      <th>id</th>\n",
       "      <th></th>\n",
       "      <th></th>\n",
       "      <th></th>\n",
       "      <th></th>\n",
       "      <th></th>\n",
       "      <th></th>\n",
       "      <th></th>\n",
       "      <th></th>\n",
       "      <th></th>\n",
       "      <th></th>\n",
       "      <th></th>\n",
       "      <th></th>\n",
       "      <th></th>\n",
       "    </tr>\n",
       "  </thead>\n",
       "  <tbody>\n",
       "    <tr>\n",
       "      <th>0</th>\n",
       "      <td>100 Grand</td>\n",
       "      <td>Yes</td>\n",
       "      <td>No</td>\n",
       "      <td>Yes</td>\n",
       "      <td>No</td>\n",
       "      <td>No</td>\n",
       "      <td>Yes</td>\n",
       "      <td>No</td>\n",
       "      <td>Yes</td>\n",
       "      <td>No</td>\n",
       "      <td>0.732</td>\n",
       "      <td>0.860</td>\n",
       "      <td>66.971725</td>\n",
       "    </tr>\n",
       "    <tr>\n",
       "      <th>1</th>\n",
       "      <td>3 Musketeers</td>\n",
       "      <td>Yes</td>\n",
       "      <td>No</td>\n",
       "      <td>No</td>\n",
       "      <td>No</td>\n",
       "      <td>Yes</td>\n",
       "      <td>No</td>\n",
       "      <td>No</td>\n",
       "      <td>Yes</td>\n",
       "      <td>No</td>\n",
       "      <td>0.604</td>\n",
       "      <td>0.511</td>\n",
       "      <td>67.602936</td>\n",
       "    </tr>\n",
       "    <tr>\n",
       "      <th>2</th>\n",
       "      <td>Air Heads</td>\n",
       "      <td>No</td>\n",
       "      <td>Yes</td>\n",
       "      <td>No</td>\n",
       "      <td>No</td>\n",
       "      <td>No</td>\n",
       "      <td>No</td>\n",
       "      <td>No</td>\n",
       "      <td>No</td>\n",
       "      <td>No</td>\n",
       "      <td>0.906</td>\n",
       "      <td>0.511</td>\n",
       "      <td>52.341465</td>\n",
       "    </tr>\n",
       "    <tr>\n",
       "      <th>3</th>\n",
       "      <td>Almond Joy</td>\n",
       "      <td>Yes</td>\n",
       "      <td>No</td>\n",
       "      <td>No</td>\n",
       "      <td>Yes</td>\n",
       "      <td>No</td>\n",
       "      <td>No</td>\n",
       "      <td>No</td>\n",
       "      <td>Yes</td>\n",
       "      <td>No</td>\n",
       "      <td>0.465</td>\n",
       "      <td>0.767</td>\n",
       "      <td>50.347546</td>\n",
       "    </tr>\n",
       "    <tr>\n",
       "      <th>4</th>\n",
       "      <td>Baby Ruth</td>\n",
       "      <td>Yes</td>\n",
       "      <td>No</td>\n",
       "      <td>Yes</td>\n",
       "      <td>Yes</td>\n",
       "      <td>Yes</td>\n",
       "      <td>No</td>\n",
       "      <td>No</td>\n",
       "      <td>Yes</td>\n",
       "      <td>No</td>\n",
       "      <td>0.604</td>\n",
       "      <td>0.767</td>\n",
       "      <td>56.914547</td>\n",
       "    </tr>\n",
       "  </tbody>\n",
       "</table>\n",
       "</div>"
      ],
      "text/plain": [
       "   competitorname chocolate fruity caramel peanutyalmondy nougat  \\\n",
       "id                                                                 \n",
       "0       100 Grand       Yes     No     Yes             No     No   \n",
       "1    3 Musketeers       Yes     No      No             No    Yes   \n",
       "2       Air Heads        No    Yes      No             No     No   \n",
       "3      Almond Joy       Yes     No      No            Yes     No   \n",
       "4       Baby Ruth       Yes     No     Yes            Yes    Yes   \n",
       "\n",
       "   crispedricewafer hard  bar pluribus  sugarpercent  pricepercent  winpercent  \n",
       "id                                                                              \n",
       "0               Yes   No  Yes       No         0.732         0.860   66.971725  \n",
       "1                No   No  Yes       No         0.604         0.511   67.602936  \n",
       "2                No   No   No       No         0.906         0.511   52.341465  \n",
       "3                No   No  Yes       No         0.465         0.767   50.347546  \n",
       "4                No   No  Yes       No         0.604         0.767   56.914547  "
      ]
     },
     "execution_count": 5,
     "metadata": {},
     "output_type": "execute_result"
    }
   ],
   "source": [
    "# Print the first five rows of the data\n",
    "candy_data.head()# Your code here"
   ]
  },
  {
   "cell_type": "markdown",
   "id": "9dfd4cb4",
   "metadata": {
    "papermill": {
     "duration": 0.007247,
     "end_time": "2023-01-14T14:35:38.615463",
     "exception": false,
     "start_time": "2023-01-14T14:35:38.608216",
     "status": "completed"
    },
    "tags": []
   },
   "source": [
    "The dataset contains 83 rows, where each corresponds to a different candy bar.  There are 13 columns:\n",
    "- `'competitorname'` contains the name of the candy bar. \n",
    "- the next **9** columns (from `'chocolate'` to `'pluribus'`) describe the candy.  For instance, rows with chocolate candies have `\"Yes\"` in the `'chocolate'` column (and candies without chocolate have `\"No\"` in the same column).\n",
    "- `'sugarpercent'` provides some indication of the amount of sugar, where higher values signify higher sugar content.\n",
    "- `'pricepercent'` shows the price per unit, relative to the other candies in the dataset.\n",
    "- `'winpercent'` is calculated from the survey results; higher values indicate that the candy was more popular with survey respondents.\n",
    "\n",
    "Use the first five rows of the data to answer the questions below."
   ]
  },
  {
   "cell_type": "code",
   "execution_count": 6,
   "id": "0028da51",
   "metadata": {
    "execution": {
     "iopub.execute_input": "2023-01-14T14:35:38.633924Z",
     "iopub.status.busy": "2023-01-14T14:35:38.633444Z",
     "iopub.status.idle": "2023-01-14T14:35:38.640710Z",
     "shell.execute_reply": "2023-01-14T14:35:38.640049Z"
    },
    "papermill": {
     "duration": 0.019455,
     "end_time": "2023-01-14T14:35:38.642361",
     "exception": false,
     "start_time": "2023-01-14T14:35:38.622906",
     "status": "completed"
    },
    "tags": []
   },
   "outputs": [
    {
     "data": {
      "application/javascript": [
       "parent.postMessage({\"jupyterEvent\": \"custom.exercise_interaction\", \"data\": {\"outcomeType\": 1, \"valueTowardsCompletion\": 0.3333333333333333, \"interactionType\": 1, \"questionType\": 1, \"questionId\": \"2_ReviewData\", \"learnToolsVersion\": \"0.3.4\", \"failureMessage\": \"\", \"exceptionClass\": \"\", \"trace\": \"\"}}, \"*\")"
      ],
      "text/plain": [
       "<IPython.core.display.Javascript object>"
      ]
     },
     "metadata": {},
     "output_type": "display_data"
    },
    {
     "data": {
      "text/markdown": [
       "<span style=\"color:#33cc33\">Correct</span>"
      ],
      "text/plain": [
       "Correct"
      ]
     },
     "metadata": {},
     "output_type": "display_data"
    }
   ],
   "source": [
    "# Fill in the line below: Which candy was more popular with survey respondents:\n",
    "# '3 Musketeers' or 'Almond Joy'?  (Please enclose your answer in single quotes.)\n",
    "more_popular = '3 Musketeers'\n",
    "\n",
    "# Fill in the line below: Which candy has higher sugar content: 'Air Heads'\n",
    "# or 'Baby Ruth'? (Please enclose your answer in single quotes.)\n",
    "more_sugar = 'Air Heads'\n",
    "\n",
    "# Check your answers\n",
    "step_2.check()"
   ]
  },
  {
   "cell_type": "code",
   "execution_count": 7,
   "id": "854a8572",
   "metadata": {
    "execution": {
     "iopub.execute_input": "2023-01-14T14:35:38.659125Z",
     "iopub.status.busy": "2023-01-14T14:35:38.658722Z",
     "iopub.status.idle": "2023-01-14T14:35:38.661912Z",
     "shell.execute_reply": "2023-01-14T14:35:38.661345Z"
    },
    "papermill": {
     "duration": 0.013138,
     "end_time": "2023-01-14T14:35:38.663492",
     "exception": false,
     "start_time": "2023-01-14T14:35:38.650354",
     "status": "completed"
    },
    "tags": []
   },
   "outputs": [],
   "source": [
    "# Lines below will give you a hint or solution code\n",
    "#step_2.hint()\n",
    "#step_2.solution()"
   ]
  },
  {
   "cell_type": "markdown",
   "id": "dae82f89",
   "metadata": {
    "papermill": {
     "duration": 0.007323,
     "end_time": "2023-01-14T14:35:38.678442",
     "exception": false,
     "start_time": "2023-01-14T14:35:38.671119",
     "status": "completed"
    },
    "tags": []
   },
   "source": [
    "## Step 3: The role of sugar\n",
    "\n",
    "Do people tend to prefer candies with higher sugar content?  \n",
    "\n",
    "#### Part A\n",
    "\n",
    "Create a scatter plot that shows the relationship between `'sugarpercent'` (on the horizontal x-axis) and `'winpercent'` (on the vertical y-axis).  _Don't add a regression line just yet -- you'll do that in the next step!_"
   ]
  },
  {
   "cell_type": "code",
   "execution_count": 8,
   "id": "e680b10c",
   "metadata": {
    "execution": {
     "iopub.execute_input": "2023-01-14T14:35:38.694875Z",
     "iopub.status.busy": "2023-01-14T14:35:38.694459Z",
     "iopub.status.idle": "2023-01-14T14:35:38.883926Z",
     "shell.execute_reply": "2023-01-14T14:35:38.883137Z"
    },
    "papermill": {
     "duration": 0.200423,
     "end_time": "2023-01-14T14:35:38.886472",
     "exception": false,
     "start_time": "2023-01-14T14:35:38.686049",
     "status": "completed"
    },
    "tags": []
   },
   "outputs": [
    {
     "data": {
      "application/javascript": [
       "parent.postMessage({\"jupyterEvent\": \"custom.exercise_interaction\", \"data\": {\"outcomeType\": 1, \"valueTowardsCompletion\": 0.3333333333333333, \"interactionType\": 1, \"questionType\": 2, \"questionId\": \"3.1_PlotBlueScatter\", \"learnToolsVersion\": \"0.3.4\", \"failureMessage\": \"\", \"exceptionClass\": \"\", \"trace\": \"\"}}, \"*\")"
      ],
      "text/plain": [
       "<IPython.core.display.Javascript object>"
      ]
     },
     "metadata": {},
     "output_type": "display_data"
    },
    {
     "data": {
      "text/markdown": [
       "<span style=\"color:#33cc33\">Correct</span>"
      ],
      "text/plain": [
       "Correct"
      ]
     },
     "metadata": {},
     "output_type": "display_data"
    },
    {
     "data": {
      "image/png": "[encoded data removed]",
      "text/plain": [
       "<Figure size 432x288 with 1 Axes>"
      ]
     },
     "metadata": {
      "needs_background": "light"
     },
     "output_type": "display_data"
    }
   ],
   "source": [
    "# Scatter plot showing the relationship between 'sugarpercent' and 'winpercent'\n",
    "sns.scatterplot(x=candy_data['sugarpercent'], y=candy_data['winpercent']) # Your code here\n",
    "\n",
    "# Check your answer\n",
    "step_3.a.check()"
   ]
  },
  {
   "cell_type": "code",
   "execution_count": 9,
   "id": "c29c76d2",
   "metadata": {
    "execution": {
     "iopub.execute_input": "2023-01-14T14:35:38.903975Z",
     "iopub.status.busy": "2023-01-14T14:35:38.903719Z",
     "iopub.status.idle": "2023-01-14T14:35:38.906783Z",
     "shell.execute_reply": "2023-01-14T14:35:38.906039Z"
    },
    "papermill": {
     "duration": 0.013517,
     "end_time": "2023-01-14T14:35:38.908334",
     "exception": false,
     "start_time": "2023-01-14T14:35:38.894817",
     "status": "completed"
    },
    "tags": []
   },
   "outputs": [],
   "source": [
    "# Lines below will give you a hint or solution code\n",
    "#step_3.a.hint()\n",
    "#step_3.a.solution_plot()"
   ]
  },
  {
   "cell_type": "markdown",
   "id": "f21cf5aa",
   "metadata": {
    "papermill": {
     "duration": 0.007687,
     "end_time": "2023-01-14T14:35:38.923993",
     "exception": false,
     "start_time": "2023-01-14T14:35:38.916306",
     "status": "completed"
    },
    "tags": []
   },
   "source": [
    "#### Part B\n",
    "\n",
    "Does the scatter plot show a **strong** correlation between the two variables?  If so, are candies with more sugar relatively more or less popular with the survey respondents?"
   ]
  },
  {
   "cell_type": "code",
   "execution_count": 10,
   "id": "a7170bcc",
   "metadata": {
    "execution": {
     "iopub.execute_input": "2023-01-14T14:35:38.940973Z",
     "iopub.status.busy": "2023-01-14T14:35:38.940737Z",
     "iopub.status.idle": "2023-01-14T14:35:38.944018Z",
     "shell.execute_reply": "2023-01-14T14:35:38.943304Z"
    },
    "papermill": {
     "duration": 0.013566,
     "end_time": "2023-01-14T14:35:38.945531",
     "exception": false,
     "start_time": "2023-01-14T14:35:38.931965",
     "status": "completed"
    },
    "tags": []
   },
   "outputs": [],
   "source": [
    "#step_3.b.hint()"
   ]
  },
  {
   "cell_type": "code",
   "execution_count": 11,
   "id": "ed25718e",
   "metadata": {
    "execution": {
     "iopub.execute_input": "2023-01-14T14:35:38.962952Z",
     "iopub.status.busy": "2023-01-14T14:35:38.962300Z",
     "iopub.status.idle": "2023-01-14T14:35:38.967658Z",
     "shell.execute_reply": "2023-01-14T14:35:38.967141Z"
    },
    "papermill": {
     "duration": 0.015419,
     "end_time": "2023-01-14T14:35:38.969047",
     "exception": false,
     "start_time": "2023-01-14T14:35:38.953628",
     "status": "completed"
    },
    "tags": []
   },
   "outputs": [
    {
     "data": {
      "application/javascript": [
       "parent.postMessage({\"jupyterEvent\": \"custom.exercise_interaction\", \"data\": {\"interactionType\": 3, \"questionType\": 4, \"questionId\": \"3.2_ThinkBlueScatter\", \"learnToolsVersion\": \"0.3.4\", \"valueTowardsCompletion\": 0.0, \"failureMessage\": \"\", \"exceptionClass\": \"\", \"trace\": \"\", \"outcomeType\": 4}}, \"*\")"
      ],
      "text/plain": [
       "<IPython.core.display.Javascript object>"
      ]
     },
     "metadata": {},
     "output_type": "display_data"
    },
    {
     "data": {
      "text/markdown": [
       "<span style=\"color:#33cc99\">Solution:</span> The scatter plot does not show a strong correlation between the two variables. Since there is no clear relationship between the two variables, this tells us that sugar content does not play a strong role in candy popularity."
      ],
      "text/plain": [
       "Solution: The scatter plot does not show a strong correlation between the two variables. Since there is no clear relationship between the two variables, this tells us that sugar content does not play a strong role in candy popularity."
      ]
     },
     "metadata": {},
     "output_type": "display_data"
    }
   ],
   "source": [
    "# Check your answer (Run this code cell to receive credit!)\n",
    "step_3.b.solution()"
   ]
  },
  {
   "cell_type": "markdown",
   "id": "d087d723",
   "metadata": {
    "papermill": {
     "duration": 0.008048,
     "end_time": "2023-01-14T14:35:38.985391",
     "exception": false,
     "start_time": "2023-01-14T14:35:38.977343",
     "status": "completed"
    },
    "tags": []
   },
   "source": [
    "## Step 4: Take a closer look\n",
    "\n",
    "#### Part A\n",
    "\n",
    "Create the same scatter plot you created in **Step 3**, but now with a regression line!"
   ]
  },
  {
   "cell_type": "code",
   "execution_count": 12,
   "id": "23533742",
   "metadata": {
    "execution": {
     "iopub.execute_input": "2023-01-14T14:35:39.003436Z",
     "iopub.status.busy": "2023-01-14T14:35:39.002789Z",
     "iopub.status.idle": "2023-01-14T14:35:39.235956Z",
     "shell.execute_reply": "2023-01-14T14:35:39.235215Z"
    },
    "papermill": {
     "duration": 0.244051,
     "end_time": "2023-01-14T14:35:39.237702",
     "exception": false,
     "start_time": "2023-01-14T14:35:38.993651",
     "status": "completed"
    },
    "tags": []
   },
   "outputs": [
    {
     "data": {
      "application/javascript": [
       "parent.postMessage({\"jupyterEvent\": \"custom.exercise_interaction\", \"data\": {\"outcomeType\": 1, \"valueTowardsCompletion\": 0.3333333333333333, \"interactionType\": 1, \"questionType\": 2, \"questionId\": \"4.1_PlotBlueReg\", \"learnToolsVersion\": \"0.3.4\", \"failureMessage\": \"\", \"exceptionClass\": \"\", \"trace\": \"\"}}, \"*\")"
      ],
      "text/plain": [
       "<IPython.core.display.Javascript object>"
      ]
     },
     "metadata": {},
     "output_type": "display_data"
    },
    {
     "data": {
      "text/markdown": [
       "<span style=\"color:#33cc33\">Correct</span>"
      ],
      "text/plain": [
       "Correct"
      ]
     },
     "metadata": {},
     "output_type": "display_data"
    },
    {
     "data": {
      "image/png": "[encoded data removed]",
      "text/plain": [
       "<Figure size 432x288 with 1 Axes>"
      ]
     },
     "metadata": {
      "needs_background": "light"
     },
     "output_type": "display_data"
    }
   ],
   "source": [
    "# Scatter plot w/ regression line showing the relationship between 'sugarpercent' and 'winpercent'\n",
    "sns.regplot(x=candy_data['sugarpercent'], y=candy_data['winpercent']) # Your code here\n",
    "\n",
    "# Check your answer\n",
    "step_4.a.check()"
   ]
  },
  {
   "cell_type": "code",
   "execution_count": 13,
   "id": "b218a522",
   "metadata": {
    "execution": {
     "iopub.execute_input": "2023-01-14T14:35:39.256562Z",
     "iopub.status.busy": "2023-01-14T14:35:39.256277Z",
     "iopub.status.idle": "2023-01-14T14:35:39.259180Z",
     "shell.execute_reply": "2023-01-14T14:35:39.258622Z"
    },
    "papermill": {
     "duration": 0.013796,
     "end_time": "2023-01-14T14:35:39.260613",
     "exception": false,
     "start_time": "2023-01-14T14:35:39.246817",
     "status": "completed"
    },
    "tags": []
   },
   "outputs": [],
   "source": [
    "# Lines below will give you a hint or solution code\n",
    "#step_4.a.hint()\n",
    "#step_4.a.solution_plot()"
   ]
  },
  {
   "cell_type": "markdown",
   "id": "5ffe6aa8",
   "metadata": {
    "papermill": {
     "duration": 0.008564,
     "end_time": "2023-01-14T14:35:39.277845",
     "exception": false,
     "start_time": "2023-01-14T14:35:39.269281",
     "status": "completed"
    },
    "tags": []
   },
   "source": [
    "#### Part B\n",
    "\n",
    "According to the plot above, is there a **slight** correlation between `'winpercent'` and `'sugarpercent'`?  What does this tell you about the candy that people tend to prefer?"
   ]
  },
  {
   "cell_type": "code",
   "execution_count": 14,
   "id": "3141623c",
   "metadata": {
    "execution": {
     "iopub.execute_input": "2023-01-14T14:35:39.297030Z",
     "iopub.status.busy": "2023-01-14T14:35:39.296527Z",
     "iopub.status.idle": "2023-01-14T14:35:39.299499Z",
     "shell.execute_reply": "2023-01-14T14:35:39.298968Z"
    },
    "papermill": {
     "duration": 0.014254,
     "end_time": "2023-01-14T14:35:39.300904",
     "exception": false,
     "start_time": "2023-01-14T14:35:39.286650",
     "status": "completed"
    },
    "tags": []
   },
   "outputs": [],
   "source": [
    "#step_4.b.hint()"
   ]
  },
  {
   "cell_type": "code",
   "execution_count": 15,
   "id": "30092359",
   "metadata": {
    "execution": {
     "iopub.execute_input": "2023-01-14T14:35:39.319982Z",
     "iopub.status.busy": "2023-01-14T14:35:39.319550Z",
     "iopub.status.idle": "2023-01-14T14:35:39.325313Z",
     "shell.execute_reply": "2023-01-14T14:35:39.324544Z"
    },
    "papermill": {
     "duration": 0.017225,
     "end_time": "2023-01-14T14:35:39.326971",
     "exception": false,
     "start_time": "2023-01-14T14:35:39.309746",
     "status": "completed"
    },
    "tags": []
   },
   "outputs": [
    {
     "data": {
      "application/javascript": [
       "parent.postMessage({\"jupyterEvent\": \"custom.exercise_interaction\", \"data\": {\"interactionType\": 3, \"questionType\": 4, \"questionId\": \"4.2_ThinkBlueReg\", \"learnToolsVersion\": \"0.3.4\", \"valueTowardsCompletion\": 0.0, \"failureMessage\": \"\", \"exceptionClass\": \"\", \"trace\": \"\", \"outcomeType\": 4}}, \"*\")"
      ],
      "text/plain": [
       "<IPython.core.display.Javascript object>"
      ]
     },
     "metadata": {},
     "output_type": "display_data"
    },
    {
     "data": {
      "text/markdown": [
       "<span style=\"color:#33cc99\">Solution:</span> Since the regression line has a slightly positive slope, this tells us that there is a slightly positive correlation between `'winpercent'` and `'sugarpercent'`. Thus, people have a slight preference for candies containing relatively more sugar."
      ],
      "text/plain": [
       "Solution: Since the regression line has a slightly positive slope, this tells us that there is a slightly positive correlation between `'winpercent'` and `'sugarpercent'`. Thus, people have a slight preference for candies containing relatively more sugar."
      ]
     },
     "metadata": {},
     "output_type": "display_data"
    }
   ],
   "source": [
    "# Check your answer (Run this code cell to receive credit!)\n",
    "step_4.b.solution()"
   ]
  },
  {
   "cell_type": "markdown",
   "id": "d54fd2c8",
   "metadata": {
    "papermill": {
     "duration": 0.00876,
     "end_time": "2023-01-14T14:35:39.344894",
     "exception": false,
     "start_time": "2023-01-14T14:35:39.336134",
     "status": "completed"
    },
    "tags": []
   },
   "source": [
    "## Step 5: Chocolate!\n",
    "\n",
    "In the code cell below, create a scatter plot to show the relationship between `'pricepercent'` (on the horizontal x-axis) and `'winpercent'` (on the vertical y-axis). Use the `'chocolate'` column to color-code the points.  _Don't add any regression lines just yet -- you'll do that in the next step!_"
   ]
  },
  {
   "cell_type": "code",
   "execution_count": 16,
   "id": "c0ef69a7",
   "metadata": {
    "execution": {
     "iopub.execute_input": "2023-01-14T14:35:39.364245Z",
     "iopub.status.busy": "2023-01-14T14:35:39.363917Z",
     "iopub.status.idle": "2023-01-14T14:35:39.580113Z",
     "shell.execute_reply": "2023-01-14T14:35:39.579499Z"
    },
    "papermill": {
     "duration": 0.227888,
     "end_time": "2023-01-14T14:35:39.581723",
     "exception": false,
     "start_time": "2023-01-14T14:35:39.353835",
     "status": "completed"
    },
    "tags": []
   },
   "outputs": [
    {
     "data": {
      "application/javascript": [
       "parent.postMessage({\"jupyterEvent\": \"custom.exercise_interaction\", \"data\": {\"outcomeType\": 1, \"valueTowardsCompletion\": 0.3333333333333333, \"interactionType\": 1, \"questionType\": 2, \"questionId\": \"5_ColorScatter\", \"learnToolsVersion\": \"0.3.4\", \"failureMessage\": \"\", \"exceptionClass\": \"\", \"trace\": \"\"}}, \"*\")"
      ],
      "text/plain": [
       "<IPython.core.display.Javascript object>"
      ]
     },
     "metadata": {},
     "output_type": "display_data"
    },
    {
     "data": {
      "text/markdown": [
       "<span style=\"color:#33cc33\">Correct</span>"
      ],
      "text/plain": [
       "Correct"
      ]
     },
     "metadata": {},
     "output_type": "display_data"
    },
    {
     "data": {
      "image/png": "[encoded data removed]",
      "text/plain": [
       "<Figure size 432x288 with 1 Axes>"
      ]
     },
     "metadata": {
      "needs_background": "light"
     },
     "output_type": "display_data"
    }
   ],
   "source": [
    "# Scatter plot showing the relationship between 'pricepercent', 'winpercent', and 'chocolate'\n",
    "sns.scatterplot(x=candy_data['pricepercent'], y=candy_data['winpercent'], hue=candy_data['chocolate']) # Your code here\n",
    "\n",
    "# Check your answer\n",
    "step_5.check()"
   ]
  },
  {
   "cell_type": "code",
   "execution_count": 17,
   "id": "68a81094",
   "metadata": {
    "execution": {
     "iopub.execute_input": "2023-01-14T14:35:39.603687Z",
     "iopub.status.busy": "2023-01-14T14:35:39.603315Z",
     "iopub.status.idle": "2023-01-14T14:35:39.607323Z",
     "shell.execute_reply": "2023-01-14T14:35:39.606462Z"
    },
    "papermill": {
     "duration": 0.016531,
     "end_time": "2023-01-14T14:35:39.608955",
     "exception": false,
     "start_time": "2023-01-14T14:35:39.592424",
     "status": "completed"
    },
    "tags": []
   },
   "outputs": [],
   "source": [
    "# Lines below will give you a hint or solution code\n",
    "#step_5.hint()\n",
    "#step_5.solution_plot()"
   ]
  },
  {
   "cell_type": "markdown",
   "id": "1f47f81b",
   "metadata": {
    "papermill": {
     "duration": 0.009295,
     "end_time": "2023-01-14T14:35:39.627671",
     "exception": false,
     "start_time": "2023-01-14T14:35:39.618376",
     "status": "completed"
    },
    "tags": []
   },
   "source": [
    "Can you see any interesting patterns in the scatter plot?  We'll investigate this plot further  by adding regression lines in the next step!\n",
    "\n",
    "## Step 6: Investigate chocolate\n",
    "\n",
    "#### Part A\n",
    "\n",
    "Create the same scatter plot you created in **Step 5**, but now with two regression lines, corresponding to (1) chocolate candies and (2) candies without chocolate."
   ]
  },
  {
   "cell_type": "code",
   "execution_count": 18,
   "id": "6a49da5a",
   "metadata": {
    "execution": {
     "iopub.execute_input": "2023-01-14T14:35:39.648496Z",
     "iopub.status.busy": "2023-01-14T14:35:39.647521Z",
     "iopub.status.idle": "2023-01-14T14:35:40.088289Z",
     "shell.execute_reply": "2023-01-14T14:35:40.087445Z"
    },
    "papermill": {
     "duration": 0.452983,
     "end_time": "2023-01-14T14:35:40.089998",
     "exception": false,
     "start_time": "2023-01-14T14:35:39.637015",
     "status": "completed"
    },
    "tags": []
   },
   "outputs": [
    {
     "data": {
      "application/javascript": [
       "parent.postMessage({\"jupyterEvent\": \"custom.exercise_interaction\", \"data\": {\"outcomeType\": 1, \"valueTowardsCompletion\": 0.3333333333333333, \"interactionType\": 1, \"questionType\": 2, \"questionId\": \"6.1_PlotColorReg\", \"learnToolsVersion\": \"0.3.4\", \"failureMessage\": \"\", \"exceptionClass\": \"\", \"trace\": \"\"}}, \"*\")"
      ],
      "text/plain": [
       "<IPython.core.display.Javascript object>"
      ]
     },
     "metadata": {},
     "output_type": "display_data"
    },
    {
     "data": {
      "text/markdown": [
       "<span style=\"color:#33cc33\">Correct</span>"
      ],
      "text/plain": [
       "Correct"
      ]
     },
     "metadata": {},
     "output_type": "display_data"
    },
    {
     "data": {
      "image/png": "[encoded data removed]",
      "text/plain": [
       "<Figure size 416.375x360 with 1 Axes>"
      ]
     },
     "metadata": {
      "needs_background": "light"
     },
     "output_type": "display_data"
    }
   ],
   "source": [
    "# Color-coded scatter plot w/ regression lines\n",
    "sns.lmplot(x=\"pricepercent\", y=\"winpercent\", hue=\"chocolate\", data=candy_data) # Your code here\n",
    "\n",
    "# Check your answer\n",
    "step_6.a.check()"
   ]
  },
  {
   "cell_type": "code",
   "execution_count": 19,
   "id": "fc6ecaf1",
   "metadata": {
    "execution": {
     "iopub.execute_input": "2023-01-14T14:35:40.112252Z",
     "iopub.status.busy": "2023-01-14T14:35:40.111894Z",
     "iopub.status.idle": "2023-01-14T14:35:40.115504Z",
     "shell.execute_reply": "2023-01-14T14:35:40.114717Z"
    },
    "papermill": {
     "duration": 0.016788,
     "end_time": "2023-01-14T14:35:40.117078",
     "exception": false,
     "start_time": "2023-01-14T14:35:40.100290",
     "status": "completed"
    },
    "tags": []
   },
   "outputs": [],
   "source": [
    "# Lines below will give you a hint or solution code\n",
    "#step_6.a.hint()\n",
    "#step_6.a.solution_plot()"
   ]
  },
  {
   "cell_type": "markdown",
   "id": "c85915bf",
   "metadata": {
    "papermill": {
     "duration": 0.009842,
     "end_time": "2023-01-14T14:35:40.136993",
     "exception": false,
     "start_time": "2023-01-14T14:35:40.127151",
     "status": "completed"
    },
    "tags": []
   },
   "source": [
    "#### Part B\n",
    "\n",
    "Using the regression lines, what conclusions can you draw about the effects of chocolate and price on candy popularity?"
   ]
  },
  {
   "cell_type": "code",
   "execution_count": 20,
   "id": "ec36cbed",
   "metadata": {
    "execution": {
     "iopub.execute_input": "2023-01-14T14:35:40.158528Z",
     "iopub.status.busy": "2023-01-14T14:35:40.158183Z",
     "iopub.status.idle": "2023-01-14T14:35:40.161816Z",
     "shell.execute_reply": "2023-01-14T14:35:40.161031Z"
    },
    "papermill": {
     "duration": 0.016362,
     "end_time": "2023-01-14T14:35:40.163342",
     "exception": false,
     "start_time": "2023-01-14T14:35:40.146980",
     "status": "completed"
    },
    "tags": []
   },
   "outputs": [],
   "source": [
    "#step_6.b.hint()"
   ]
  },
  {
   "cell_type": "code",
   "execution_count": 21,
   "id": "9bfa3853",
   "metadata": {
    "execution": {
     "iopub.execute_input": "2023-01-14T14:35:40.184866Z",
     "iopub.status.busy": "2023-01-14T14:35:40.184541Z",
     "iopub.status.idle": "2023-01-14T14:35:40.191185Z",
     "shell.execute_reply": "2023-01-14T14:35:40.190387Z"
    },
    "papermill": {
     "duration": 0.019348,
     "end_time": "2023-01-14T14:35:40.192677",
     "exception": false,
     "start_time": "2023-01-14T14:35:40.173329",
     "status": "completed"
    },
    "tags": []
   },
   "outputs": [
    {
     "data": {
      "application/javascript": [
       "parent.postMessage({\"jupyterEvent\": \"custom.exercise_interaction\", \"data\": {\"interactionType\": 3, \"questionType\": 4, \"questionId\": \"6.2_ThinkColorReg\", \"learnToolsVersion\": \"0.3.4\", \"valueTowardsCompletion\": 0.0, \"failureMessage\": \"\", \"exceptionClass\": \"\", \"trace\": \"\", \"outcomeType\": 4}}, \"*\")"
      ],
      "text/plain": [
       "<IPython.core.display.Javascript object>"
      ]
     },
     "metadata": {},
     "output_type": "display_data"
    },
    {
     "data": {
      "text/markdown": [
       "<span style=\"color:#33cc99\">Solution:</span> We'll begin with the regression line for chocolate candies. Since this line has a slightly positive slope, we can say that more expensive chocolate candies tend to be more popular (than relatively cheaper chocolate candies).  Likewise, since the regression line for candies without chocolate has a negative slope, we can say that if candies don't contain chocolate, they tend to be more popular when they are cheaper.  One important note, however, is that the dataset is quite small -- so we shouldn't invest too much trust in these patterns!  To inspire more confidence in the results, we should add more candies to the dataset."
      ],
      "text/plain": [
       "Solution: We'll begin with the regression line for chocolate candies. Since this line has a slightly positive slope, we can say that more expensive chocolate candies tend to be more popular (than relatively cheaper chocolate candies).  Likewise, since the regression line for candies without chocolate has a negative slope, we can say that if candies don't contain chocolate, they tend to be more popular when they are cheaper.  One important note, however, is that the dataset is quite small -- so we shouldn't invest too much trust in these patterns!  To inspire more confidence in the results, we should add more candies to the dataset."
      ]
     },
     "metadata": {},
     "output_type": "display_data"
    }
   ],
   "source": [
    "# Check your answer (Run this code cell to receive credit!)\n",
    "step_6.b.solution()"
   ]
  },
  {
   "cell_type": "markdown",
   "id": "da14aecf",
   "metadata": {
    "papermill": {
     "duration": 0.010119,
     "end_time": "2023-01-14T14:35:40.213067",
     "exception": false,
     "start_time": "2023-01-14T14:35:40.202948",
     "status": "completed"
    },
    "tags": []
   },
   "source": [
    "## Step 7: Everybody loves chocolate.\n",
    "\n",
    "#### Part A\n",
    "\n",
    "Create a categorical scatter plot to highlight the relationship between `'chocolate'` and `'winpercent'`.  Put `'chocolate'` on the (horizontal) x-axis, and `'winpercent'` on the (vertical) y-axis."
   ]
  },
  {
   "cell_type": "code",
   "execution_count": 22,
   "id": "1d787347",
   "metadata": {
    "execution": {
     "iopub.execute_input": "2023-01-14T14:35:40.235076Z",
     "iopub.status.busy": "2023-01-14T14:35:40.234751Z",
     "iopub.status.idle": "2023-01-14T14:35:40.363541Z",
     "shell.execute_reply": "2023-01-14T14:35:40.362589Z"
    },
    "papermill": {
     "duration": 0.142508,
     "end_time": "2023-01-14T14:35:40.365865",
     "exception": false,
     "start_time": "2023-01-14T14:35:40.223357",
     "status": "completed"
    },
    "tags": []
   },
   "outputs": [
    {
     "data": {
      "application/javascript": [
       "parent.postMessage({\"jupyterEvent\": \"custom.exercise_interaction\", \"data\": {\"outcomeType\": 1, \"valueTowardsCompletion\": 0.3333333333333333, \"interactionType\": 1, \"questionType\": 2, \"questionId\": \"7.1_PlotSwarm\", \"learnToolsVersion\": \"0.3.4\", \"failureMessage\": \"\", \"exceptionClass\": \"\", \"trace\": \"\"}}, \"*\")"
      ],
      "text/plain": [
       "<IPython.core.display.Javascript object>"
      ]
     },
     "metadata": {},
     "output_type": "display_data"
    },
    {
     "data": {
      "text/markdown": [
       "<span style=\"color:#33cc33\">Correct</span>"
      ],
      "text/plain": [
       "Correct"
      ]
     },
     "metadata": {},
     "output_type": "display_data"
    },
    {
     "data": {
      "image/png": "[encoded data removed]",
      "text/plain": [
       "<Figure size 432x288 with 1 Axes>"
      ]
     },
     "metadata": {
      "needs_background": "light"
     },
     "output_type": "display_data"
    }
   ],
   "source": [
    "# Scatter plot showing the relationship between 'chocolate' and 'winpercent'\n",
    "sns.swarmplot(x=candy_data['chocolate'],y=candy_data['winpercent']) # Your code here\n",
    "\n",
    "# Check your answer\n",
    "step_7.a.check()"
   ]
  },
  {
   "cell_type": "code",
   "execution_count": 23,
   "id": "82e09a7e",
   "metadata": {
    "execution": {
     "iopub.execute_input": "2023-01-14T14:35:40.397240Z",
     "iopub.status.busy": "2023-01-14T14:35:40.396729Z",
     "iopub.status.idle": "2023-01-14T14:35:40.399647Z",
     "shell.execute_reply": "2023-01-14T14:35:40.399135Z"
    },
    "papermill": {
     "duration": 0.019954,
     "end_time": "2023-01-14T14:35:40.401086",
     "exception": false,
     "start_time": "2023-01-14T14:35:40.381132",
     "status": "completed"
    },
    "tags": []
   },
   "outputs": [],
   "source": [
    "# Lines below will give you a hint or solution code\n",
    "#step_7.a.hint()\n",
    "#step_7.a.solution_plot()"
   ]
  },
  {
   "cell_type": "markdown",
   "id": "64c350f2",
   "metadata": {
    "papermill": {
     "duration": 0.010637,
     "end_time": "2023-01-14T14:35:40.422679",
     "exception": false,
     "start_time": "2023-01-14T14:35:40.412042",
     "status": "completed"
    },
    "tags": []
   },
   "source": [
    "#### Part B\n",
    "\n",
    "You decide to dedicate a section of your report to the fact that chocolate candies tend to be more popular than candies without chocolate.  Which plot is more appropriate to tell this story: the plot from **Step 6**, or the plot from **Step 7**?"
   ]
  },
  {
   "cell_type": "code",
   "execution_count": 24,
   "id": "3e6c25a4",
   "metadata": {
    "execution": {
     "iopub.execute_input": "2023-01-14T14:35:40.445761Z",
     "iopub.status.busy": "2023-01-14T14:35:40.445303Z",
     "iopub.status.idle": "2023-01-14T14:35:40.448127Z",
     "shell.execute_reply": "2023-01-14T14:35:40.447604Z"
    },
    "papermill": {
     "duration": 0.016067,
     "end_time": "2023-01-14T14:35:40.449555",
     "exception": false,
     "start_time": "2023-01-14T14:35:40.433488",
     "status": "completed"
    },
    "tags": []
   },
   "outputs": [],
   "source": [
    "#step_7.b.hint()"
   ]
  },
  {
   "cell_type": "code",
   "execution_count": 25,
   "id": "4d513c48",
   "metadata": {
    "execution": {
     "iopub.execute_input": "2023-01-14T14:35:40.472265Z",
     "iopub.status.busy": "2023-01-14T14:35:40.472017Z",
     "iopub.status.idle": "2023-01-14T14:35:40.478061Z",
     "shell.execute_reply": "2023-01-14T14:35:40.477335Z"
    },
    "papermill": {
     "duration": 0.019343,
     "end_time": "2023-01-14T14:35:40.479780",
     "exception": false,
     "start_time": "2023-01-14T14:35:40.460437",
     "status": "completed"
    },
    "tags": []
   },
   "outputs": [
    {
     "data": {
      "application/javascript": [
       "parent.postMessage({\"jupyterEvent\": \"custom.exercise_interaction\", \"data\": {\"interactionType\": 3, \"questionType\": 4, \"questionId\": \"7.2_ThinkSwarm\", \"learnToolsVersion\": \"0.3.4\", \"valueTowardsCompletion\": 0.0, \"failureMessage\": \"\", \"exceptionClass\": \"\", \"trace\": \"\", \"outcomeType\": 4}}, \"*\")"
      ],
      "text/plain": [
       "<IPython.core.display.Javascript object>"
      ]
     },
     "metadata": {},
     "output_type": "display_data"
    },
    {
     "data": {
      "text/markdown": [
       "<span style=\"color:#33cc99\">Solution:</span> In this case, the categorical scatter plot from **Step 7** is the more appropriate plot. While both plots tell the desired story, the plot from **Step 6** conveys far more information that could distract from the main point."
      ],
      "text/plain": [
       "Solution: In this case, the categorical scatter plot from **Step 7** is the more appropriate plot. While both plots tell the desired story, the plot from **Step 6** conveys far more information that could distract from the main point."
      ]
     },
     "metadata": {},
     "output_type": "display_data"
    }
   ],
   "source": [
    "# Check your answer (Run this code cell to receive credit!)\n",
    "step_7.b.solution()"
   ]
  },
  {
   "cell_type": "markdown",
   "id": "53b41a81",
   "metadata": {
    "papermill": {
     "duration": 0.010925,
     "end_time": "2023-01-14T14:35:40.501840",
     "exception": false,
     "start_time": "2023-01-14T14:35:40.490915",
     "status": "completed"
    },
    "tags": []
   },
   "source": [
    "## Keep going\n",
    "\n",
    "Explore **[histograms and density plots](https://www.kaggle.com/alexisbcook/distributions)**."
   ]
  },
  {
   "cell_type": "markdown",
   "id": "726aae27",
   "metadata": {
    "papermill": {
     "duration": 0.010818,
     "end_time": "2023-01-14T14:35:40.523791",
     "exception": false,
     "start_time": "2023-01-14T14:35:40.512973",
     "status": "completed"
    },
    "tags": []
   },
   "source": [
    "---\n",
    "\n",
    "\n",
    "\n",
    "\n",
    "*Have questions or comments? Visit the [course discussion forum](https://www.kaggle.com/learn/data-visualization/discussion) to chat with other learners.*"
   ]
  }
 ],
 "metadata": {
  "kernelspec": {
   "display_name": "Python 3",
   "language": "python",
   "name": "python3"
  },
  "language_info": {
   "codemirror_mode": {
    "name": "ipython",
    "version": 3
   },
   "file_extension": ".py",
   "mimetype": "text/x-python",
   "name": "python",
   "nbconvert_exporter": "python",
   "pygments_lexer": "ipython3",
   "version": "3.7.12"
  },
  "papermill": {
   "default_parameters": {},
   "duration": 9.821393,
   "end_time": "2023-01-14T14:35:41.051925",
   "environment_variables": {},
   "exception": null,
   "input_path": "__notebook__.ipynb",
   "output_path": "__notebook__.ipynb",
   "parameters": {},
   "start_time": "2023-01-14T14:35:31.230532",
   "version": "2.3.4"
  }
 },
 "nbformat": 4,
 "nbformat_minor": 5
}
