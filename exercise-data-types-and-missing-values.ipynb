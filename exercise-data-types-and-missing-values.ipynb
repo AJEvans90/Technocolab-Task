{
 "cells": [
  {
   "cell_type": "markdown",
   "id": "9f711d65",
   "metadata": {
    "papermill": {
     "duration": 0.005743,
     "end_time": "2023-01-12T14:01:17.224438",
     "exception": false,
     "start_time": "2023-01-12T14:01:17.218695",
     "status": "completed"
    },
    "tags": []
   },
   "source": [
    "**This notebook is an exercise in the [Pandas](https://www.kaggle.com/learn/pandas) course.  You can reference the tutorial at [this link](https://www.kaggle.com/residentmario/data-types-and-missing-values).**\n",
    "\n",
    "---\n"
   ]
  },
  {
   "cell_type": "markdown",
   "id": "6e32756f",
   "metadata": {
    "papermill": {
     "duration": 0.003948,
     "end_time": "2023-01-12T14:01:17.233018",
     "exception": false,
     "start_time": "2023-01-12T14:01:17.229070",
     "status": "completed"
    },
    "tags": []
   },
   "source": [
    "# Introduction\n",
    "\n",
    "Run the following cell to load your data and some utility functions."
   ]
  },
  {
   "cell_type": "code",
   "execution_count": 1,
   "id": "82f83aaf",
   "metadata": {
    "execution": {
     "iopub.execute_input": "2023-01-12T14:01:17.244305Z",
     "iopub.status.busy": "2023-01-12T14:01:17.243548Z",
     "iopub.status.idle": "2023-01-12T14:01:20.212092Z",
     "shell.execute_reply": "2023-01-12T14:01:20.210652Z"
    },
    "papermill": {
     "duration": 2.978883,
     "end_time": "2023-01-12T14:01:20.216204",
     "exception": false,
     "start_time": "2023-01-12T14:01:17.237321",
     "status": "completed"
    },
    "tags": []
   },
   "outputs": [
    {
     "name": "stdout",
     "output_type": "stream",
     "text": [
      "Setup complete.\n"
     ]
    }
   ],
   "source": [
    "import pandas as pd\n",
    "\n",
    "reviews = pd.read_csv(\"../input/wine-reviews/winemag-data-130k-v2.csv\", index_col=0)\n",
    "\n",
    "from learntools.core import binder; binder.bind(globals())\n",
    "from learntools.pandas.data_types_and_missing_data import *\n",
    "print(\"Setup complete.\")"
   ]
  },
  {
   "cell_type": "markdown",
   "id": "db7bd669",
   "metadata": {
    "papermill": {
     "duration": 0.004152,
     "end_time": "2023-01-12T14:01:20.225562",
     "exception": false,
     "start_time": "2023-01-12T14:01:20.221410",
     "status": "completed"
    },
    "tags": []
   },
   "source": [
    "# Exercises"
   ]
  },
  {
   "cell_type": "markdown",
   "id": "3394c01e",
   "metadata": {
    "papermill": {
     "duration": 0.003934,
     "end_time": "2023-01-12T14:01:20.233848",
     "exception": false,
     "start_time": "2023-01-12T14:01:20.229914",
     "status": "completed"
    },
    "tags": []
   },
   "source": [
    "## 1. \n",
    "What is the data type of the `points` column in the dataset?"
   ]
  },
  {
   "cell_type": "code",
   "execution_count": 2,
   "id": "8e5082c6",
   "metadata": {
    "execution": {
     "iopub.execute_input": "2023-01-12T14:01:20.244279Z",
     "iopub.status.busy": "2023-01-12T14:01:20.243885Z",
     "iopub.status.idle": "2023-01-12T14:01:20.256541Z",
     "shell.execute_reply": "2023-01-12T14:01:20.255095Z"
    },
    "papermill": {
     "duration": 0.020873,
     "end_time": "2023-01-12T14:01:20.258967",
     "exception": false,
     "start_time": "2023-01-12T14:01:20.238094",
     "status": "completed"
    },
    "tags": []
   },
   "outputs": [
    {
     "data": {
      "application/javascript": [
       "parent.postMessage({\"jupyterEvent\": \"custom.exercise_interaction\", \"data\": {\"outcomeType\": 1, \"valueTowardsCompletion\": 0.25, \"interactionType\": 1, \"questionType\": 1, \"questionId\": \"1_PointsDtype\", \"learnToolsVersion\": \"0.3.4\", \"failureMessage\": \"\", \"exceptionClass\": \"\", \"trace\": \"\"}}, \"*\")"
      ],
      "text/plain": [
       "<IPython.core.display.Javascript object>"
      ]
     },
     "metadata": {},
     "output_type": "display_data"
    },
    {
     "data": {
      "text/markdown": [
       "<span style=\"color:#33cc33\">Correct</span>"
      ],
      "text/plain": [
       "Correct"
      ]
     },
     "metadata": {},
     "output_type": "display_data"
    }
   ],
   "source": [
    "# Your code here\n",
    "dtype = reviews.points.dtype\n",
    "\n",
    "# Check your answer\n",
    "q1.check()"
   ]
  },
  {
   "cell_type": "code",
   "execution_count": 3,
   "id": "96576fd6",
   "metadata": {
    "execution": {
     "iopub.execute_input": "2023-01-12T14:01:20.271501Z",
     "iopub.status.busy": "2023-01-12T14:01:20.269938Z",
     "iopub.status.idle": "2023-01-12T14:01:20.275713Z",
     "shell.execute_reply": "2023-01-12T14:01:20.274789Z"
    },
    "papermill": {
     "duration": 0.014352,
     "end_time": "2023-01-12T14:01:20.278182",
     "exception": false,
     "start_time": "2023-01-12T14:01:20.263830",
     "status": "completed"
    },
    "tags": []
   },
   "outputs": [],
   "source": [
    "#q1.hint()\n",
    "#q1.solution()"
   ]
  },
  {
   "cell_type": "markdown",
   "id": "a4f9a716",
   "metadata": {
    "papermill": {
     "duration": 0.004269,
     "end_time": "2023-01-12T14:01:20.287185",
     "exception": false,
     "start_time": "2023-01-12T14:01:20.282916",
     "status": "completed"
    },
    "tags": []
   },
   "source": [
    "## 2. \n",
    "Create a Series from entries in the `points` column, but convert the entries to strings. Hint: strings are `str` in native Python."
   ]
  },
  {
   "cell_type": "code",
   "execution_count": 4,
   "id": "493f7210",
   "metadata": {
    "execution": {
     "iopub.execute_input": "2023-01-12T14:01:20.299078Z",
     "iopub.status.busy": "2023-01-12T14:01:20.298408Z",
     "iopub.status.idle": "2023-01-12T14:01:20.386120Z",
     "shell.execute_reply": "2023-01-12T14:01:20.384800Z"
    },
    "papermill": {
     "duration": 0.097067,
     "end_time": "2023-01-12T14:01:20.388906",
     "exception": false,
     "start_time": "2023-01-12T14:01:20.291839",
     "status": "completed"
    },
    "tags": []
   },
   "outputs": [
    {
     "data": {
      "application/javascript": [
       "parent.postMessage({\"jupyterEvent\": \"custom.exercise_interaction\", \"data\": {\"outcomeType\": 1, \"valueTowardsCompletion\": 0.25, \"interactionType\": 1, \"questionType\": 1, \"questionId\": \"2_StrPoints\", \"learnToolsVersion\": \"0.3.4\", \"failureMessage\": \"\", \"exceptionClass\": \"\", \"trace\": \"\"}}, \"*\")"
      ],
      "text/plain": [
       "<IPython.core.display.Javascript object>"
      ]
     },
     "metadata": {},
     "output_type": "display_data"
    },
    {
     "data": {
      "text/markdown": [
       "<span style=\"color:#33cc33\">Correct</span>"
      ],
      "text/plain": [
       "Correct"
      ]
     },
     "metadata": {},
     "output_type": "display_data"
    }
   ],
   "source": [
    "point_strings =  reviews.points.astype(str)\n",
    "\n",
    "# Check your answer\n",
    "q2.check()"
   ]
  },
  {
   "cell_type": "code",
   "execution_count": 5,
   "id": "b313d17c",
   "metadata": {
    "execution": {
     "iopub.execute_input": "2023-01-12T14:01:20.401131Z",
     "iopub.status.busy": "2023-01-12T14:01:20.400659Z",
     "iopub.status.idle": "2023-01-12T14:01:20.405847Z",
     "shell.execute_reply": "2023-01-12T14:01:20.404571Z"
    },
    "papermill": {
     "duration": 0.014064,
     "end_time": "2023-01-12T14:01:20.408228",
     "exception": false,
     "start_time": "2023-01-12T14:01:20.394164",
     "status": "completed"
    },
    "tags": []
   },
   "outputs": [],
   "source": [
    "#q2.hint()\n",
    "#q2.solution()"
   ]
  },
  {
   "cell_type": "markdown",
   "id": "bd444fea",
   "metadata": {
    "papermill": {
     "duration": 0.00485,
     "end_time": "2023-01-12T14:01:20.418288",
     "exception": false,
     "start_time": "2023-01-12T14:01:20.413438",
     "status": "completed"
    },
    "tags": []
   },
   "source": [
    "## 3.\n",
    "Sometimes the price column is null. How many reviews in the dataset are missing a price?"
   ]
  },
  {
   "cell_type": "code",
   "execution_count": 6,
   "id": "d0f8d45a",
   "metadata": {
    "execution": {
     "iopub.execute_input": "2023-01-12T14:01:20.429896Z",
     "iopub.status.busy": "2023-01-12T14:01:20.429479Z",
     "iopub.status.idle": "2023-01-12T14:01:20.439881Z",
     "shell.execute_reply": "2023-01-12T14:01:20.438617Z"
    },
    "papermill": {
     "duration": 0.018629,
     "end_time": "2023-01-12T14:01:20.441984",
     "exception": false,
     "start_time": "2023-01-12T14:01:20.423355",
     "status": "completed"
    },
    "tags": []
   },
   "outputs": [
    {
     "data": {
      "application/javascript": [
       "parent.postMessage({\"jupyterEvent\": \"custom.exercise_interaction\", \"data\": {\"outcomeType\": 1, \"valueTowardsCompletion\": 0.25, \"interactionType\": 1, \"questionType\": 1, \"questionId\": \"3_CountMissingPrices\", \"learnToolsVersion\": \"0.3.4\", \"failureMessage\": \"\", \"exceptionClass\": \"\", \"trace\": \"\"}}, \"*\")"
      ],
      "text/plain": [
       "<IPython.core.display.Javascript object>"
      ]
     },
     "metadata": {},
     "output_type": "display_data"
    },
    {
     "data": {
      "text/markdown": [
       "<span style=\"color:#33cc33\">Correct</span>"
      ],
      "text/plain": [
       "Correct"
      ]
     },
     "metadata": {},
     "output_type": "display_data"
    }
   ],
   "source": [
    "n_missing_prices =  reviews.price.isnull().sum()\n",
    "\n",
    "# Check your answer\n",
    "q3.check()"
   ]
  },
  {
   "cell_type": "code",
   "execution_count": 7,
   "id": "19ee5bef",
   "metadata": {
    "execution": {
     "iopub.execute_input": "2023-01-12T14:01:20.454485Z",
     "iopub.status.busy": "2023-01-12T14:01:20.454096Z",
     "iopub.status.idle": "2023-01-12T14:01:20.459133Z",
     "shell.execute_reply": "2023-01-12T14:01:20.457919Z"
    },
    "papermill": {
     "duration": 0.013854,
     "end_time": "2023-01-12T14:01:20.461565",
     "exception": false,
     "start_time": "2023-01-12T14:01:20.447711",
     "status": "completed"
    },
    "tags": []
   },
   "outputs": [],
   "source": [
    "#q3.hint()\n",
    "#q3.solution()"
   ]
  },
  {
   "cell_type": "markdown",
   "id": "e9a3a134",
   "metadata": {
    "papermill": {
     "duration": 0.005578,
     "end_time": "2023-01-12T14:01:20.472980",
     "exception": false,
     "start_time": "2023-01-12T14:01:20.467402",
     "status": "completed"
    },
    "tags": []
   },
   "source": [
    "## 4.\n",
    "What are the most common wine-producing regions? Create a Series counting the number of times each value occurs in the `region_1` field. This field is often missing data, so replace missing values with `Unknown`. Sort in descending order.  Your output should look something like this:\n",
    "\n",
    "```\n",
    "Unknown                    21247\n",
    "Napa Valley                 4480\n",
    "                           ...  \n",
    "Bardolino Superiore            1\n",
    "Primitivo del Tarantino        1\n",
    "Name: region_1, Length: 1230, dtype: int64\n",
    "```"
   ]
  },
  {
   "cell_type": "code",
   "execution_count": 8,
   "id": "d293e644",
   "metadata": {
    "execution": {
     "iopub.execute_input": "2023-01-12T14:01:20.487463Z",
     "iopub.status.busy": "2023-01-12T14:01:20.486671Z",
     "iopub.status.idle": "2023-01-12T14:01:20.533081Z",
     "shell.execute_reply": "2023-01-12T14:01:20.531909Z"
    },
    "papermill": {
     "duration": 0.056323,
     "end_time": "2023-01-12T14:01:20.535831",
     "exception": false,
     "start_time": "2023-01-12T14:01:20.479508",
     "status": "completed"
    },
    "tags": []
   },
   "outputs": [
    {
     "data": {
      "application/javascript": [
       "parent.postMessage({\"jupyterEvent\": \"custom.exercise_interaction\", \"data\": {\"outcomeType\": 1, \"valueTowardsCompletion\": 0.25, \"interactionType\": 1, \"questionType\": 2, \"questionId\": \"4_ReviewsPerRegion\", \"learnToolsVersion\": \"0.3.4\", \"failureMessage\": \"\", \"exceptionClass\": \"\", \"trace\": \"\"}}, \"*\")"
      ],
      "text/plain": [
       "<IPython.core.display.Javascript object>"
      ]
     },
     "metadata": {},
     "output_type": "display_data"
    },
    {
     "data": {
      "text/markdown": [
       "<span style=\"color:#33cc33\">Correct</span>"
      ],
      "text/plain": [
       "Correct"
      ]
     },
     "metadata": {},
     "output_type": "display_data"
    }
   ],
   "source": [
    "reviews_per_region =  reviews.region_1.fillna(\"Unknown\").value_counts().sort_values(ascending=False)\n",
    "\n",
    "# Check your answer\n",
    "q4.check()"
   ]
  },
  {
   "cell_type": "code",
   "execution_count": 9,
   "id": "c5b1b7b9",
   "metadata": {
    "execution": {
     "iopub.execute_input": "2023-01-12T14:01:20.548620Z",
     "iopub.status.busy": "2023-01-12T14:01:20.548183Z",
     "iopub.status.idle": "2023-01-12T14:01:20.552916Z",
     "shell.execute_reply": "2023-01-12T14:01:20.551655Z"
    },
    "papermill": {
     "duration": 0.013982,
     "end_time": "2023-01-12T14:01:20.555336",
     "exception": false,
     "start_time": "2023-01-12T14:01:20.541354",
     "status": "completed"
    },
    "tags": []
   },
   "outputs": [],
   "source": [
    "#q4.hint()\n",
    "#q4.solution()"
   ]
  },
  {
   "cell_type": "markdown",
   "id": "3634cc95",
   "metadata": {
    "papermill": {
     "duration": 0.005531,
     "end_time": "2023-01-12T14:01:20.566248",
     "exception": false,
     "start_time": "2023-01-12T14:01:20.560717",
     "status": "completed"
    },
    "tags": []
   },
   "source": [
    "# Keep going\n",
    "\n",
    "Move on to **[renaming and combining](https://www.kaggle.com/residentmario/renaming-and-combining)**."
   ]
  },
  {
   "cell_type": "markdown",
   "id": "c7887325",
   "metadata": {
    "papermill": {
     "duration": 0.005469,
     "end_time": "2023-01-12T14:01:20.577363",
     "exception": false,
     "start_time": "2023-01-12T14:01:20.571894",
     "status": "completed"
    },
    "tags": []
   },
   "source": [
    "---\n",
    "\n",
    "\n",
    "\n",
    "\n",
    "*Have questions or comments? Visit the [course discussion forum](https://www.kaggle.com/learn/pandas/discussion) to chat with other learners.*"
   ]
  }
 ],
 "metadata": {
  "kernelspec": {
   "display_name": "Python 3",
   "language": "python",
   "name": "python3"
  },
  "language_info": {
   "codemirror_mode": {
    "name": "ipython",
    "version": 3
   },
   "file_extension": ".py",
   "mimetype": "text/x-python",
   "name": "python",
   "nbconvert_exporter": "python",
   "pygments_lexer": "ipython3",
   "version": "3.7.12"
  },
  "papermill": {
   "default_parameters": {},
   "duration": 13.600629,
   "end_time": "2023-01-12T14:01:21.305426",
   "environment_variables": {},
   "exception": null,
   "input_path": "__notebook__.ipynb",
   "output_path": "__notebook__.ipynb",
   "parameters": {},
   "start_time": "2023-01-12T14:01:07.704797",
   "version": "2.3.4"
  }
 },
 "nbformat": 4,
 "nbformat_minor": 5
}
