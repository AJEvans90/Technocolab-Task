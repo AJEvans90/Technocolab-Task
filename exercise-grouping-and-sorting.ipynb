{
 "cells": [
  {
   "cell_type": "markdown",
   "id": "791c43f3",
   "metadata": {
    "papermill": {
     "duration": 0.006766,
     "end_time": "2023-01-12T13:55:43.426690",
     "exception": false,
     "start_time": "2023-01-12T13:55:43.419924",
     "status": "completed"
    },
    "tags": []
   },
   "source": [
    "**This notebook is an exercise in the [Pandas](https://www.kaggle.com/learn/pandas) course.  You can reference the tutorial at [this link](https://www.kaggle.com/residentmario/grouping-and-sorting).**\n",
    "\n",
    "---\n"
   ]
  },
  {
   "cell_type": "markdown",
   "id": "95ba17c5",
   "metadata": {
    "papermill": {
     "duration": 0.00535,
     "end_time": "2023-01-12T13:55:43.437812",
     "exception": false,
     "start_time": "2023-01-12T13:55:43.432462",
     "status": "completed"
    },
    "tags": []
   },
   "source": [
    "# Introduction\n",
    "\n",
    "In these exercises we'll apply groupwise analysis to our dataset.\n",
    "\n",
    "Run the code cell below to load the data before running the exercises."
   ]
  },
  {
   "cell_type": "code",
   "execution_count": 1,
   "id": "a0b7f66b",
   "metadata": {
    "execution": {
     "iopub.execute_input": "2023-01-12T13:55:43.452902Z",
     "iopub.status.busy": "2023-01-12T13:55:43.452107Z",
     "iopub.status.idle": "2023-01-12T13:55:46.697162Z",
     "shell.execute_reply": "2023-01-12T13:55:46.695966Z"
    },
    "papermill": {
     "duration": 3.25614,
     "end_time": "2023-01-12T13:55:46.700177",
     "exception": false,
     "start_time": "2023-01-12T13:55:43.444037",
     "status": "completed"
    },
    "tags": []
   },
   "outputs": [
    {
     "name": "stdout",
     "output_type": "stream",
     "text": [
      "Setup complete.\n"
     ]
    }
   ],
   "source": [
    "import pandas as pd\n",
    "\n",
    "reviews = pd.read_csv(\"../input/wine-reviews/winemag-data-130k-v2.csv\", index_col=0)\n",
    "#pd.set_option(\"display.max_rows\", 5)\n",
    "\n",
    "from learntools.core import binder; binder.bind(globals())\n",
    "from learntools.pandas.grouping_and_sorting import *\n",
    "print(\"Setup complete.\")"
   ]
  },
  {
   "cell_type": "markdown",
   "id": "d107e8ef",
   "metadata": {
    "papermill": {
     "duration": 0.005457,
     "end_time": "2023-01-12T13:55:46.711689",
     "exception": false,
     "start_time": "2023-01-12T13:55:46.706232",
     "status": "completed"
    },
    "tags": []
   },
   "source": [
    "# Exercises"
   ]
  },
  {
   "cell_type": "markdown",
   "id": "e11a2947",
   "metadata": {
    "papermill": {
     "duration": 0.005655,
     "end_time": "2023-01-12T13:55:46.723158",
     "exception": false,
     "start_time": "2023-01-12T13:55:46.717503",
     "status": "completed"
    },
    "tags": []
   },
   "source": [
    "## 1.\n",
    "Who are the most common wine reviewers in the dataset? Create a `Series` whose index is the `taster_twitter_handle` category from the dataset, and whose values count how many reviews each person wrote."
   ]
  },
  {
   "cell_type": "code",
   "execution_count": 2,
   "id": "036f02c6",
   "metadata": {
    "execution": {
     "iopub.execute_input": "2023-01-12T13:55:46.737115Z",
     "iopub.status.busy": "2023-01-12T13:55:46.736671Z",
     "iopub.status.idle": "2023-01-12T13:55:46.761412Z",
     "shell.execute_reply": "2023-01-12T13:55:46.760173Z"
    },
    "papermill": {
     "duration": 0.034443,
     "end_time": "2023-01-12T13:55:46.763843",
     "exception": false,
     "start_time": "2023-01-12T13:55:46.729400",
     "status": "completed"
    },
    "tags": []
   },
   "outputs": [
    {
     "data": {
      "application/javascript": [
       "parent.postMessage({\"jupyterEvent\": \"custom.exercise_interaction\", \"data\": {\"outcomeType\": 1, \"valueTowardsCompletion\": 0.16666666666666666, \"interactionType\": 1, \"questionType\": 1, \"questionId\": \"1_ReviewsWritten\", \"learnToolsVersion\": \"0.3.4\", \"failureMessage\": \"\", \"exceptionClass\": \"\", \"trace\": \"\"}}, \"*\")"
      ],
      "text/plain": [
       "<IPython.core.display.Javascript object>"
      ]
     },
     "metadata": {},
     "output_type": "display_data"
    },
    {
     "data": {
      "text/markdown": [
       "<span style=\"color:#33cc33\">Correct:</span> \n",
       "\n",
       "\n",
       "```python\n",
       "reviews_written = reviews.groupby('taster_twitter_handle').size()\n",
       "```\n",
       "or\n",
       "```python\n",
       "reviews_written = reviews.groupby('taster_twitter_handle').taster_twitter_handle.count()\n",
       "```\n"
      ],
      "text/plain": [
       "Correct: \n",
       "\n",
       "\n",
       "```python\n",
       "reviews_written = reviews.groupby('taster_twitter_handle').size()\n",
       "```\n",
       "or\n",
       "```python\n",
       "reviews_written = reviews.groupby('taster_twitter_handle').taster_twitter_handle.count()\n",
       "```"
      ]
     },
     "metadata": {},
     "output_type": "display_data"
    }
   ],
   "source": [
    "# Your code here\n",
    "reviews_written = reviews.groupby('taster_twitter_handle').size()\n",
    "\n",
    "# Check your answer\n",
    "q1.check()"
   ]
  },
  {
   "cell_type": "code",
   "execution_count": 3,
   "id": "28bce0c4",
   "metadata": {
    "execution": {
     "iopub.execute_input": "2023-01-12T13:55:46.778826Z",
     "iopub.status.busy": "2023-01-12T13:55:46.778313Z",
     "iopub.status.idle": "2023-01-12T13:55:46.784369Z",
     "shell.execute_reply": "2023-01-12T13:55:46.782712Z"
    },
    "papermill": {
     "duration": 0.016954,
     "end_time": "2023-01-12T13:55:46.787342",
     "exception": false,
     "start_time": "2023-01-12T13:55:46.770388",
     "status": "completed"
    },
    "tags": []
   },
   "outputs": [],
   "source": [
    "#q1.hint()\n",
    "#q1.solution()"
   ]
  },
  {
   "cell_type": "markdown",
   "id": "2c002e91",
   "metadata": {
    "papermill": {
     "duration": 0.008072,
     "end_time": "2023-01-12T13:55:46.801951",
     "exception": false,
     "start_time": "2023-01-12T13:55:46.793879",
     "status": "completed"
    },
    "tags": []
   },
   "source": [
    "## 2.\n",
    "What is the best wine I can buy for a given amount of money? Create a `Series` whose index is wine prices and whose values is the maximum number of points a wine costing that much was given in a review. Sort the values by price, ascending (so that `4.0` dollars is at the top and `3300.0` dollars is at the bottom)."
   ]
  },
  {
   "cell_type": "code",
   "execution_count": 4,
   "id": "903448f5",
   "metadata": {
    "execution": {
     "iopub.execute_input": "2023-01-12T13:55:46.817337Z",
     "iopub.status.busy": "2023-01-12T13:55:46.816914Z",
     "iopub.status.idle": "2023-01-12T13:55:46.831952Z",
     "shell.execute_reply": "2023-01-12T13:55:46.830786Z"
    },
    "papermill": {
     "duration": 0.025646,
     "end_time": "2023-01-12T13:55:46.834458",
     "exception": false,
     "start_time": "2023-01-12T13:55:46.808812",
     "status": "completed"
    },
    "tags": []
   },
   "outputs": [
    {
     "data": {
      "application/javascript": [
       "parent.postMessage({\"jupyterEvent\": \"custom.exercise_interaction\", \"data\": {\"outcomeType\": 1, \"valueTowardsCompletion\": 0.16666666666666666, \"interactionType\": 1, \"questionType\": 1, \"questionId\": \"2_BestRatingPerPrice\", \"learnToolsVersion\": \"0.3.4\", \"failureMessage\": \"\", \"exceptionClass\": \"\", \"trace\": \"\"}}, \"*\")"
      ],
      "text/plain": [
       "<IPython.core.display.Javascript object>"
      ]
     },
     "metadata": {},
     "output_type": "display_data"
    },
    {
     "data": {
      "text/markdown": [
       "<span style=\"color:#33cc33\">Correct</span>"
      ],
      "text/plain": [
       "Correct"
      ]
     },
     "metadata": {},
     "output_type": "display_data"
    }
   ],
   "source": [
    "best_rating_per_price = reviews.groupby('price')['points'].max().sort_index()\n",
    "\n",
    "# Check your answer\n",
    "q2.check()"
   ]
  },
  {
   "cell_type": "code",
   "execution_count": 5,
   "id": "bf4087e5",
   "metadata": {
    "execution": {
     "iopub.execute_input": "2023-01-12T13:55:46.850230Z",
     "iopub.status.busy": "2023-01-12T13:55:46.849812Z",
     "iopub.status.idle": "2023-01-12T13:55:46.855033Z",
     "shell.execute_reply": "2023-01-12T13:55:46.853639Z"
    },
    "papermill": {
     "duration": 0.015923,
     "end_time": "2023-01-12T13:55:46.857522",
     "exception": false,
     "start_time": "2023-01-12T13:55:46.841599",
     "status": "completed"
    },
    "tags": []
   },
   "outputs": [],
   "source": [
    "#q2.hint()\n",
    "#q2.solution()"
   ]
  },
  {
   "cell_type": "markdown",
   "id": "d5a2c185",
   "metadata": {
    "papermill": {
     "duration": 0.006235,
     "end_time": "2023-01-12T13:55:46.870633",
     "exception": false,
     "start_time": "2023-01-12T13:55:46.864398",
     "status": "completed"
    },
    "tags": []
   },
   "source": [
    "## 3.\n",
    "What are the minimum and maximum prices for each `variety` of wine? Create a `DataFrame` whose index is the `variety` category from the dataset and whose values are the `min` and `max` values thereof."
   ]
  },
  {
   "cell_type": "code",
   "execution_count": 6,
   "id": "168e2bf6",
   "metadata": {
    "execution": {
     "iopub.execute_input": "2023-01-12T13:55:46.885545Z",
     "iopub.status.busy": "2023-01-12T13:55:46.885158Z",
     "iopub.status.idle": "2023-01-12T13:55:46.912184Z",
     "shell.execute_reply": "2023-01-12T13:55:46.910643Z"
    },
    "papermill": {
     "duration": 0.037856,
     "end_time": "2023-01-12T13:55:46.914970",
     "exception": false,
     "start_time": "2023-01-12T13:55:46.877114",
     "status": "completed"
    },
    "tags": []
   },
   "outputs": [
    {
     "data": {
      "application/javascript": [
       "parent.postMessage({\"jupyterEvent\": \"custom.exercise_interaction\", \"data\": {\"outcomeType\": 1, \"valueTowardsCompletion\": 0.16666666666666666, \"interactionType\": 1, \"questionType\": 1, \"questionId\": \"3_PriceExtremes\", \"learnToolsVersion\": \"0.3.4\", \"failureMessage\": \"\", \"exceptionClass\": \"\", \"trace\": \"\"}}, \"*\")"
      ],
      "text/plain": [
       "<IPython.core.display.Javascript object>"
      ]
     },
     "metadata": {},
     "output_type": "display_data"
    },
    {
     "data": {
      "text/markdown": [
       "<span style=\"color:#33cc33\">Correct</span>"
      ],
      "text/plain": [
       "Correct"
      ]
     },
     "metadata": {},
     "output_type": "display_data"
    }
   ],
   "source": [
    "price_extremes = reviews.groupby('variety').price.agg([min, max])\n",
    "\n",
    "# Check your answer\n",
    "q3.check()"
   ]
  },
  {
   "cell_type": "code",
   "execution_count": 7,
   "id": "57f716fb",
   "metadata": {
    "execution": {
     "iopub.execute_input": "2023-01-12T13:55:46.930955Z",
     "iopub.status.busy": "2023-01-12T13:55:46.930475Z",
     "iopub.status.idle": "2023-01-12T13:55:46.936496Z",
     "shell.execute_reply": "2023-01-12T13:55:46.934942Z"
    },
    "papermill": {
     "duration": 0.018378,
     "end_time": "2023-01-12T13:55:46.940378",
     "exception": false,
     "start_time": "2023-01-12T13:55:46.922000",
     "status": "completed"
    },
    "tags": []
   },
   "outputs": [],
   "source": [
    "#q3.hint()\n",
    "#q3.solution()"
   ]
  },
  {
   "cell_type": "markdown",
   "id": "65969d33",
   "metadata": {
    "papermill": {
     "duration": 0.006985,
     "end_time": "2023-01-12T13:55:46.954559",
     "exception": false,
     "start_time": "2023-01-12T13:55:46.947574",
     "status": "completed"
    },
    "tags": []
   },
   "source": [
    "## 4.\n",
    "What are the most expensive wine varieties? Create a variable `sorted_varieties` containing a copy of the dataframe from the previous question where varieties are sorted in descending order based on minimum price, then on maximum price (to break ties)."
   ]
  },
  {
   "cell_type": "code",
   "execution_count": 8,
   "id": "fcf40ae6",
   "metadata": {
    "execution": {
     "iopub.execute_input": "2023-01-12T13:55:46.970327Z",
     "iopub.status.busy": "2023-01-12T13:55:46.969913Z",
     "iopub.status.idle": "2023-01-12T13:55:46.982688Z",
     "shell.execute_reply": "2023-01-12T13:55:46.981853Z"
    },
    "papermill": {
     "duration": 0.023352,
     "end_time": "2023-01-12T13:55:46.984893",
     "exception": false,
     "start_time": "2023-01-12T13:55:46.961541",
     "status": "completed"
    },
    "tags": []
   },
   "outputs": [
    {
     "data": {
      "application/javascript": [
       "parent.postMessage({\"jupyterEvent\": \"custom.exercise_interaction\", \"data\": {\"outcomeType\": 1, \"valueTowardsCompletion\": 0.16666666666666666, \"interactionType\": 1, \"questionType\": 1, \"questionId\": \"4_SortedVarieties\", \"learnToolsVersion\": \"0.3.4\", \"failureMessage\": \"\", \"exceptionClass\": \"\", \"trace\": \"\"}}, \"*\")"
      ],
      "text/plain": [
       "<IPython.core.display.Javascript object>"
      ]
     },
     "metadata": {},
     "output_type": "display_data"
    },
    {
     "data": {
      "text/markdown": [
       "<span style=\"color:#33cc33\">Correct</span>"
      ],
      "text/plain": [
       "Correct"
      ]
     },
     "metadata": {},
     "output_type": "display_data"
    }
   ],
   "source": [
    "sorted_varieties = price_extremes.sort_values(by=['min', 'max'], ascending=False)\n",
    "\n",
    "# Check your answer\n",
    "q4.check()"
   ]
  },
  {
   "cell_type": "code",
   "execution_count": 9,
   "id": "4a7f6066",
   "metadata": {
    "execution": {
     "iopub.execute_input": "2023-01-12T13:55:47.000491Z",
     "iopub.status.busy": "2023-01-12T13:55:47.000095Z",
     "iopub.status.idle": "2023-01-12T13:55:47.003883Z",
     "shell.execute_reply": "2023-01-12T13:55:47.003031Z"
    },
    "papermill": {
     "duration": 0.016188,
     "end_time": "2023-01-12T13:55:47.007832",
     "exception": false,
     "start_time": "2023-01-12T13:55:46.991644",
     "status": "completed"
    },
    "tags": []
   },
   "outputs": [],
   "source": [
    "#q4.hint()\n",
    "#q4.solution()"
   ]
  },
  {
   "cell_type": "markdown",
   "id": "6b09af74",
   "metadata": {
    "papermill": {
     "duration": 0.007579,
     "end_time": "2023-01-12T13:55:47.022798",
     "exception": false,
     "start_time": "2023-01-12T13:55:47.015219",
     "status": "completed"
    },
    "tags": []
   },
   "source": [
    "## 5.\n",
    "Create a `Series` whose index is reviewers and whose values is the average review score given out by that reviewer. Hint: you will need the `taster_name` and `points` columns."
   ]
  },
  {
   "cell_type": "code",
   "execution_count": 10,
   "id": "b976ee4a",
   "metadata": {
    "execution": {
     "iopub.execute_input": "2023-01-12T13:55:47.039639Z",
     "iopub.status.busy": "2023-01-12T13:55:47.038822Z",
     "iopub.status.idle": "2023-01-12T13:55:47.059628Z",
     "shell.execute_reply": "2023-01-12T13:55:47.058518Z"
    },
    "papermill": {
     "duration": 0.031854,
     "end_time": "2023-01-12T13:55:47.062054",
     "exception": false,
     "start_time": "2023-01-12T13:55:47.030200",
     "status": "completed"
    },
    "tags": []
   },
   "outputs": [
    {
     "data": {
      "application/javascript": [
       "parent.postMessage({\"jupyterEvent\": \"custom.exercise_interaction\", \"data\": {\"outcomeType\": 1, \"valueTowardsCompletion\": 0.16666666666666666, \"interactionType\": 1, \"questionType\": 1, \"questionId\": \"5_ReviewerMeanRatings\", \"learnToolsVersion\": \"0.3.4\", \"failureMessage\": \"\", \"exceptionClass\": \"\", \"trace\": \"\"}}, \"*\")"
      ],
      "text/plain": [
       "<IPython.core.display.Javascript object>"
      ]
     },
     "metadata": {},
     "output_type": "display_data"
    },
    {
     "data": {
      "text/markdown": [
       "<span style=\"color:#33cc33\">Correct</span>"
      ],
      "text/plain": [
       "Correct"
      ]
     },
     "metadata": {},
     "output_type": "display_data"
    }
   ],
   "source": [
    "reviewer_mean_ratings =  reviews.groupby('taster_name').points.mean()\n",
    "\n",
    "# Check your answer\n",
    "q5.check()"
   ]
  },
  {
   "cell_type": "code",
   "execution_count": 11,
   "id": "65c1cfff",
   "metadata": {
    "execution": {
     "iopub.execute_input": "2023-01-12T13:55:47.079938Z",
     "iopub.status.busy": "2023-01-12T13:55:47.079283Z",
     "iopub.status.idle": "2023-01-12T13:55:47.083914Z",
     "shell.execute_reply": "2023-01-12T13:55:47.082942Z"
    },
    "papermill": {
     "duration": 0.016566,
     "end_time": "2023-01-12T13:55:47.086150",
     "exception": false,
     "start_time": "2023-01-12T13:55:47.069584",
     "status": "completed"
    },
    "tags": []
   },
   "outputs": [],
   "source": [
    "#q5.hint()\n",
    "#q5.solution()"
   ]
  },
  {
   "cell_type": "markdown",
   "id": "56586040",
   "metadata": {
    "papermill": {
     "duration": 0.006947,
     "end_time": "2023-01-12T13:55:47.100398",
     "exception": false,
     "start_time": "2023-01-12T13:55:47.093451",
     "status": "completed"
    },
    "tags": []
   },
   "source": [
    "Are there significant differences in the average scores assigned by the various reviewers? Run the cell below to use the `describe()` method to see a summary of the range of values."
   ]
  },
  {
   "cell_type": "code",
   "execution_count": 12,
   "id": "305162d8",
   "metadata": {
    "execution": {
     "iopub.execute_input": "2023-01-12T13:55:47.116818Z",
     "iopub.status.busy": "2023-01-12T13:55:47.116180Z",
     "iopub.status.idle": "2023-01-12T13:55:47.130285Z",
     "shell.execute_reply": "2023-01-12T13:55:47.128948Z"
    },
    "papermill": {
     "duration": 0.025404,
     "end_time": "2023-01-12T13:55:47.132902",
     "exception": false,
     "start_time": "2023-01-12T13:55:47.107498",
     "status": "completed"
    },
    "tags": []
   },
   "outputs": [
    {
     "data": {
      "text/plain": [
       "count    19.000000\n",
       "mean     88.233026\n",
       "std       1.243610\n",
       "min      85.855422\n",
       "25%      87.323501\n",
       "50%      88.536235\n",
       "75%      88.975256\n",
       "max      90.562551\n",
       "Name: points, dtype: float64"
      ]
     },
     "execution_count": 12,
     "metadata": {},
     "output_type": "execute_result"
    }
   ],
   "source": [
    "reviewer_mean_ratings.describe()"
   ]
  },
  {
   "cell_type": "markdown",
   "id": "9c1bb67e",
   "metadata": {
    "papermill": {
     "duration": 0.006873,
     "end_time": "2023-01-12T13:55:47.147202",
     "exception": false,
     "start_time": "2023-01-12T13:55:47.140329",
     "status": "completed"
    },
    "tags": []
   },
   "source": [
    "## 6.\n",
    "What combination of countries and varieties are most common? Create a `Series` whose index is a `MultiIndex`of `{country, variety}` pairs. For example, a pinot noir produced in the US should map to `{\"US\", \"Pinot Noir\"}`. Sort the values in the `Series` in descending order based on wine count."
   ]
  },
  {
   "cell_type": "code",
   "execution_count": 13,
   "id": "aae29fe2",
   "metadata": {
    "execution": {
     "iopub.execute_input": "2023-01-12T13:55:47.164602Z",
     "iopub.status.busy": "2023-01-12T13:55:47.163277Z",
     "iopub.status.idle": "2023-01-12T13:55:47.202356Z",
     "shell.execute_reply": "2023-01-12T13:55:47.200799Z"
    },
    "papermill": {
     "duration": 0.050868,
     "end_time": "2023-01-12T13:55:47.205105",
     "exception": false,
     "start_time": "2023-01-12T13:55:47.154237",
     "status": "completed"
    },
    "tags": []
   },
   "outputs": [
    {
     "data": {
      "application/javascript": [
       "parent.postMessage({\"jupyterEvent\": \"custom.exercise_interaction\", \"data\": {\"outcomeType\": 1, \"valueTowardsCompletion\": 0.16666666666666666, \"interactionType\": 1, \"questionType\": 1, \"questionId\": \"6_GroupbyCountryVariety\", \"learnToolsVersion\": \"0.3.4\", \"failureMessage\": \"\", \"exceptionClass\": \"\", \"trace\": \"\"}}, \"*\")"
      ],
      "text/plain": [
       "<IPython.core.display.Javascript object>"
      ]
     },
     "metadata": {},
     "output_type": "display_data"
    },
    {
     "data": {
      "text/markdown": [
       "<span style=\"color:#33cc33\">Correct</span>"
      ],
      "text/plain": [
       "Correct"
      ]
     },
     "metadata": {},
     "output_type": "display_data"
    }
   ],
   "source": [
    "country_variety_counts = reviews.groupby(['country', 'variety']).size().sort_values(ascending=False)\n",
    "\n",
    "# Check your answer\n",
    "q6.check()"
   ]
  },
  {
   "cell_type": "code",
   "execution_count": 14,
   "id": "845e22de",
   "metadata": {
    "execution": {
     "iopub.execute_input": "2023-01-12T13:55:47.223125Z",
     "iopub.status.busy": "2023-01-12T13:55:47.222672Z",
     "iopub.status.idle": "2023-01-12T13:55:47.228822Z",
     "shell.execute_reply": "2023-01-12T13:55:47.227214Z"
    },
    "papermill": {
     "duration": 0.018365,
     "end_time": "2023-01-12T13:55:47.231610",
     "exception": false,
     "start_time": "2023-01-12T13:55:47.213245",
     "status": "completed"
    },
    "tags": []
   },
   "outputs": [],
   "source": [
    "#q6.hint()\n",
    "#q6.solution()"
   ]
  },
  {
   "cell_type": "markdown",
   "id": "97506a65",
   "metadata": {
    "papermill": {
     "duration": 0.007414,
     "end_time": "2023-01-12T13:55:47.246835",
     "exception": false,
     "start_time": "2023-01-12T13:55:47.239421",
     "status": "completed"
    },
    "tags": []
   },
   "source": [
    "# Keep going\n",
    "\n",
    "Move on to the [**data types and missing data**](https://www.kaggle.com/residentmario/data-types-and-missing-values)."
   ]
  },
  {
   "cell_type": "markdown",
   "id": "2b28f0f7",
   "metadata": {
    "papermill": {
     "duration": 0.007175,
     "end_time": "2023-01-12T13:55:47.261631",
     "exception": false,
     "start_time": "2023-01-12T13:55:47.254456",
     "status": "completed"
    },
    "tags": []
   },
   "source": [
    "---\n",
    "\n",
    "\n",
    "\n",
    "\n",
    "*Have questions or comments? Visit the [course discussion forum](https://www.kaggle.com/learn/pandas/discussion) to chat with other learners.*"
   ]
  }
 ],
 "metadata": {
  "kernelspec": {
   "display_name": "Python 3",
   "language": "python",
   "name": "python3"
  },
  "language_info": {
   "codemirror_mode": {
    "name": "ipython",
    "version": 3
   },
   "file_extension": ".py",
   "mimetype": "text/x-python",
   "name": "python",
   "nbconvert_exporter": "python",
   "pygments_lexer": "ipython3",
   "version": "3.7.12"
  },
  "papermill": {
   "default_parameters": {},
   "duration": 14.136718,
   "end_time": "2023-01-12T13:55:48.295577",
   "environment_variables": {},
   "exception": null,
   "input_path": "__notebook__.ipynb",
   "output_path": "__notebook__.ipynb",
   "parameters": {},
   "start_time": "2023-01-12T13:55:34.158859",
   "version": "2.3.4"
  }
 },
 "nbformat": 4,
 "nbformat_minor": 5
}
