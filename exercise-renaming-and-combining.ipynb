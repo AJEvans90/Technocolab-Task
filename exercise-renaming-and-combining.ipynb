{
 "cells": [
  {
   "cell_type": "markdown",
   "id": "91d55a9d",
   "metadata": {
    "papermill": {
     "duration": 0.005447,
     "end_time": "2023-01-12T14:15:25.770006",
     "exception": false,
     "start_time": "2023-01-12T14:15:25.764559",
     "status": "completed"
    },
    "tags": []
   },
   "source": [
    "**This notebook is an exercise in the [Pandas](https://www.kaggle.com/learn/pandas) course.  You can reference the tutorial at [this link](https://www.kaggle.com/residentmario/renaming-and-combining).**\n",
    "\n",
    "---\n"
   ]
  },
  {
   "cell_type": "markdown",
   "id": "bd7a5bc4",
   "metadata": {
    "papermill": {
     "duration": 0.004275,
     "end_time": "2023-01-12T14:15:25.779287",
     "exception": false,
     "start_time": "2023-01-12T14:15:25.775012",
     "status": "completed"
    },
    "tags": []
   },
   "source": [
    "# Introduction\n",
    "\n",
    "Run the following cell to load your data and some utility functions."
   ]
  },
  {
   "cell_type": "code",
   "execution_count": 1,
   "id": "6c87d17d",
   "metadata": {
    "execution": {
     "iopub.execute_input": "2023-01-12T14:15:25.789979Z",
     "iopub.status.busy": "2023-01-12T14:15:25.789541Z",
     "iopub.status.idle": "2023-01-12T14:15:29.720125Z",
     "shell.execute_reply": "2023-01-12T14:15:29.718117Z"
    },
    "papermill": {
     "duration": 3.939615,
     "end_time": "2023-01-12T14:15:29.723383",
     "exception": false,
     "start_time": "2023-01-12T14:15:25.783768",
     "status": "completed"
    },
    "tags": []
   },
   "outputs": [
    {
     "name": "stdout",
     "output_type": "stream",
     "text": [
      "Setup complete.\n"
     ]
    }
   ],
   "source": [
    "import pandas as pd\n",
    "\n",
    "reviews = pd.read_csv(\"../input/wine-reviews/winemag-data-130k-v2.csv\", index_col=0)\n",
    "\n",
    "from learntools.core import binder; binder.bind(globals())\n",
    "from learntools.pandas.renaming_and_combining import *\n",
    "print(\"Setup complete.\")"
   ]
  },
  {
   "cell_type": "markdown",
   "id": "af0a3acd",
   "metadata": {
    "papermill": {
     "duration": 0.004383,
     "end_time": "2023-01-12T14:15:29.732979",
     "exception": false,
     "start_time": "2023-01-12T14:15:29.728596",
     "status": "completed"
    },
    "tags": []
   },
   "source": [
    "# Exercises\n",
    "\n",
    "View the first several lines of your data by running the cell below:"
   ]
  },
  {
   "cell_type": "code",
   "execution_count": 2,
   "id": "b592c18d",
   "metadata": {
    "execution": {
     "iopub.execute_input": "2023-01-12T14:15:29.743741Z",
     "iopub.status.busy": "2023-01-12T14:15:29.743324Z",
     "iopub.status.idle": "2023-01-12T14:15:29.770010Z",
     "shell.execute_reply": "2023-01-12T14:15:29.768551Z"
    },
    "papermill": {
     "duration": 0.034814,
     "end_time": "2023-01-12T14:15:29.772281",
     "exception": false,
     "start_time": "2023-01-12T14:15:29.737467",
     "status": "completed"
    },
    "tags": []
   },
   "outputs": [
    {
     "data": {
      "text/html": [
       "<div>\n",
       "<style scoped>\n",
       "    .dataframe tbody tr th:only-of-type {\n",
       "        vertical-align: middle;\n",
       "    }\n",
       "\n",
       "    .dataframe tbody tr th {\n",
       "        vertical-align: top;\n",
       "    }\n",
       "\n",
       "    .dataframe thead th {\n",
       "        text-align: right;\n",
       "    }\n",
       "</style>\n",
       "<table border=\"1\" class=\"dataframe\">\n",
       "  <thead>\n",
       "    <tr style=\"text-align: right;\">\n",
       "      <th></th>\n",
       "      <th>country</th>\n",
       "      <th>description</th>\n",
       "      <th>designation</th>\n",
       "      <th>points</th>\n",
       "      <th>price</th>\n",
       "      <th>province</th>\n",
       "      <th>region_1</th>\n",
       "      <th>region_2</th>\n",
       "      <th>taster_name</th>\n",
       "      <th>taster_twitter_handle</th>\n",
       "      <th>title</th>\n",
       "      <th>variety</th>\n",
       "      <th>winery</th>\n",
       "    </tr>\n",
       "  </thead>\n",
       "  <tbody>\n",
       "    <tr>\n",
       "      <th>0</th>\n",
       "      <td>Italy</td>\n",
       "      <td>Aromas include tropical fruit, broom, brimston...</td>\n",
       "      <td>Vulkà Bianco</td>\n",
       "      <td>87</td>\n",
       "      <td>NaN</td>\n",
       "      <td>Sicily &amp; Sardinia</td>\n",
       "      <td>Etna</td>\n",
       "      <td>NaN</td>\n",
       "      <td>Kerin O’Keefe</td>\n",
       "      <td>@kerinokeefe</td>\n",
       "      <td>Nicosia 2013 Vulkà Bianco  (Etna)</td>\n",
       "      <td>White Blend</td>\n",
       "      <td>Nicosia</td>\n",
       "    </tr>\n",
       "    <tr>\n",
       "      <th>1</th>\n",
       "      <td>Portugal</td>\n",
       "      <td>This is ripe and fruity, a wine that is smooth...</td>\n",
       "      <td>Avidagos</td>\n",
       "      <td>87</td>\n",
       "      <td>15.0</td>\n",
       "      <td>Douro</td>\n",
       "      <td>NaN</td>\n",
       "      <td>NaN</td>\n",
       "      <td>Roger Voss</td>\n",
       "      <td>@vossroger</td>\n",
       "      <td>Quinta dos Avidagos 2011 Avidagos Red (Douro)</td>\n",
       "      <td>Portuguese Red</td>\n",
       "      <td>Quinta dos Avidagos</td>\n",
       "    </tr>\n",
       "    <tr>\n",
       "      <th>2</th>\n",
       "      <td>US</td>\n",
       "      <td>Tart and snappy, the flavors of lime flesh and...</td>\n",
       "      <td>NaN</td>\n",
       "      <td>87</td>\n",
       "      <td>14.0</td>\n",
       "      <td>Oregon</td>\n",
       "      <td>Willamette Valley</td>\n",
       "      <td>Willamette Valley</td>\n",
       "      <td>Paul Gregutt</td>\n",
       "      <td>@paulgwine</td>\n",
       "      <td>Rainstorm 2013 Pinot Gris (Willamette Valley)</td>\n",
       "      <td>Pinot Gris</td>\n",
       "      <td>Rainstorm</td>\n",
       "    </tr>\n",
       "    <tr>\n",
       "      <th>3</th>\n",
       "      <td>US</td>\n",
       "      <td>Pineapple rind, lemon pith and orange blossom ...</td>\n",
       "      <td>Reserve Late Harvest</td>\n",
       "      <td>87</td>\n",
       "      <td>13.0</td>\n",
       "      <td>Michigan</td>\n",
       "      <td>Lake Michigan Shore</td>\n",
       "      <td>NaN</td>\n",
       "      <td>Alexander Peartree</td>\n",
       "      <td>NaN</td>\n",
       "      <td>St. Julian 2013 Reserve Late Harvest Riesling ...</td>\n",
       "      <td>Riesling</td>\n",
       "      <td>St. Julian</td>\n",
       "    </tr>\n",
       "    <tr>\n",
       "      <th>4</th>\n",
       "      <td>US</td>\n",
       "      <td>Much like the regular bottling from 2012, this...</td>\n",
       "      <td>Vintner's Reserve Wild Child Block</td>\n",
       "      <td>87</td>\n",
       "      <td>65.0</td>\n",
       "      <td>Oregon</td>\n",
       "      <td>Willamette Valley</td>\n",
       "      <td>Willamette Valley</td>\n",
       "      <td>Paul Gregutt</td>\n",
       "      <td>@paulgwine</td>\n",
       "      <td>Sweet Cheeks 2012 Vintner's Reserve Wild Child...</td>\n",
       "      <td>Pinot Noir</td>\n",
       "      <td>Sweet Cheeks</td>\n",
       "    </tr>\n",
       "  </tbody>\n",
       "</table>\n",
       "</div>"
      ],
      "text/plain": [
       "    country                                        description  \\\n",
       "0     Italy  Aromas include tropical fruit, broom, brimston...   \n",
       "1  Portugal  This is ripe and fruity, a wine that is smooth...   \n",
       "2        US  Tart and snappy, the flavors of lime flesh and...   \n",
       "3        US  Pineapple rind, lemon pith and orange blossom ...   \n",
       "4        US  Much like the regular bottling from 2012, this...   \n",
       "\n",
       "                          designation  points  price           province  \\\n",
       "0                        Vulkà Bianco      87    NaN  Sicily & Sardinia   \n",
       "1                            Avidagos      87   15.0              Douro   \n",
       "2                                 NaN      87   14.0             Oregon   \n",
       "3                Reserve Late Harvest      87   13.0           Michigan   \n",
       "4  Vintner's Reserve Wild Child Block      87   65.0             Oregon   \n",
       "\n",
       "              region_1           region_2         taster_name  \\\n",
       "0                 Etna                NaN       Kerin O’Keefe   \n",
       "1                  NaN                NaN          Roger Voss   \n",
       "2    Willamette Valley  Willamette Valley        Paul Gregutt   \n",
       "3  Lake Michigan Shore                NaN  Alexander Peartree   \n",
       "4    Willamette Valley  Willamette Valley        Paul Gregutt   \n",
       "\n",
       "  taster_twitter_handle                                              title  \\\n",
       "0          @kerinokeefe                  Nicosia 2013 Vulkà Bianco  (Etna)   \n",
       "1            @vossroger      Quinta dos Avidagos 2011 Avidagos Red (Douro)   \n",
       "2           @paulgwine       Rainstorm 2013 Pinot Gris (Willamette Valley)   \n",
       "3                   NaN  St. Julian 2013 Reserve Late Harvest Riesling ...   \n",
       "4           @paulgwine   Sweet Cheeks 2012 Vintner's Reserve Wild Child...   \n",
       "\n",
       "          variety               winery  \n",
       "0     White Blend              Nicosia  \n",
       "1  Portuguese Red  Quinta dos Avidagos  \n",
       "2      Pinot Gris            Rainstorm  \n",
       "3        Riesling           St. Julian  \n",
       "4      Pinot Noir         Sweet Cheeks  "
      ]
     },
     "execution_count": 2,
     "metadata": {},
     "output_type": "execute_result"
    }
   ],
   "source": [
    "reviews.head()"
   ]
  },
  {
   "cell_type": "markdown",
   "id": "6d49c0b0",
   "metadata": {
    "papermill": {
     "duration": 0.004432,
     "end_time": "2023-01-12T14:15:29.781694",
     "exception": false,
     "start_time": "2023-01-12T14:15:29.777262",
     "status": "completed"
    },
    "tags": []
   },
   "source": [
    "## 1.\n",
    "`region_1` and `region_2` are pretty uninformative names for locale columns in the dataset. Create a copy of `reviews` with these columns renamed to `region` and `locale`, respectively."
   ]
  },
  {
   "cell_type": "code",
   "execution_count": 3,
   "id": "f3e28d85",
   "metadata": {
    "execution": {
     "iopub.execute_input": "2023-01-12T14:15:29.792631Z",
     "iopub.status.busy": "2023-01-12T14:15:29.792237Z",
     "iopub.status.idle": "2023-01-12T14:15:29.820032Z",
     "shell.execute_reply": "2023-01-12T14:15:29.818845Z"
    },
    "papermill": {
     "duration": 0.035976,
     "end_time": "2023-01-12T14:15:29.822306",
     "exception": false,
     "start_time": "2023-01-12T14:15:29.786330",
     "status": "completed"
    },
    "tags": []
   },
   "outputs": [
    {
     "data": {
      "application/javascript": [
       "parent.postMessage({\"jupyterEvent\": \"custom.exercise_interaction\", \"data\": {\"outcomeType\": 1, \"valueTowardsCompletion\": 0.25, \"interactionType\": 1, \"questionType\": 1, \"questionId\": \"1_RenameCols\", \"learnToolsVersion\": \"0.3.4\", \"failureMessage\": \"\", \"exceptionClass\": \"\", \"trace\": \"\"}}, \"*\")"
      ],
      "text/plain": [
       "<IPython.core.display.Javascript object>"
      ]
     },
     "metadata": {},
     "output_type": "display_data"
    },
    {
     "data": {
      "text/markdown": [
       "<span style=\"color:#33cc33\">Correct</span>"
      ],
      "text/plain": [
       "Correct"
      ]
     },
     "metadata": {},
     "output_type": "display_data"
    }
   ],
   "source": [
    "# Your code here\n",
    "renamed = reviews.rename(columns={\"region_1\": \"region\", \"region_2\": \"locale\"})\n",
    "\n",
    "# Check your answer\n",
    "q1.check()"
   ]
  },
  {
   "cell_type": "code",
   "execution_count": 4,
   "id": "c006ea87",
   "metadata": {
    "execution": {
     "iopub.execute_input": "2023-01-12T14:15:29.838174Z",
     "iopub.status.busy": "2023-01-12T14:15:29.837375Z",
     "iopub.status.idle": "2023-01-12T14:15:29.842286Z",
     "shell.execute_reply": "2023-01-12T14:15:29.841039Z"
    },
    "papermill": {
     "duration": 0.014972,
     "end_time": "2023-01-12T14:15:29.844596",
     "exception": false,
     "start_time": "2023-01-12T14:15:29.829624",
     "status": "completed"
    },
    "tags": []
   },
   "outputs": [],
   "source": [
    "#q1.hint()\n",
    "#q1.solution()"
   ]
  },
  {
   "cell_type": "markdown",
   "id": "8a6fe391",
   "metadata": {
    "papermill": {
     "duration": 0.008087,
     "end_time": "2023-01-12T14:15:29.859727",
     "exception": false,
     "start_time": "2023-01-12T14:15:29.851640",
     "status": "completed"
    },
    "tags": []
   },
   "source": [
    "## 2.\n",
    "Set the index name in the dataset to `wines`."
   ]
  },
  {
   "cell_type": "code",
   "execution_count": 5,
   "id": "cb07002e",
   "metadata": {
    "execution": {
     "iopub.execute_input": "2023-01-12T14:15:29.872724Z",
     "iopub.status.busy": "2023-01-12T14:15:29.872325Z",
     "iopub.status.idle": "2023-01-12T14:15:29.899338Z",
     "shell.execute_reply": "2023-01-12T14:15:29.898378Z"
    },
    "papermill": {
     "duration": 0.0362,
     "end_time": "2023-01-12T14:15:29.901304",
     "exception": false,
     "start_time": "2023-01-12T14:15:29.865104",
     "status": "completed"
    },
    "tags": []
   },
   "outputs": [
    {
     "data": {
      "application/javascript": [
       "parent.postMessage({\"jupyterEvent\": \"custom.exercise_interaction\", \"data\": {\"outcomeType\": 1, \"valueTowardsCompletion\": 0.25, \"interactionType\": 1, \"questionType\": 1, \"questionId\": \"2_RenameIndex\", \"learnToolsVersion\": \"0.3.4\", \"failureMessage\": \"\", \"exceptionClass\": \"\", \"trace\": \"\"}}, \"*\")"
      ],
      "text/plain": [
       "<IPython.core.display.Javascript object>"
      ]
     },
     "metadata": {},
     "output_type": "display_data"
    },
    {
     "data": {
      "text/markdown": [
       "<span style=\"color:#33cc33\">Correct</span>"
      ],
      "text/plain": [
       "Correct"
      ]
     },
     "metadata": {},
     "output_type": "display_data"
    }
   ],
   "source": [
    "reindexed = reviews.rename_axis(\"wines\", axis=\"rows\")\n",
    "\n",
    "# Check your answer\n",
    "q2.check()"
   ]
  },
  {
   "cell_type": "code",
   "execution_count": 6,
   "id": "b2d680f7",
   "metadata": {
    "execution": {
     "iopub.execute_input": "2023-01-12T14:15:29.915006Z",
     "iopub.status.busy": "2023-01-12T14:15:29.914640Z",
     "iopub.status.idle": "2023-01-12T14:15:29.919351Z",
     "shell.execute_reply": "2023-01-12T14:15:29.917607Z"
    },
    "papermill": {
     "duration": 0.014425,
     "end_time": "2023-01-12T14:15:29.921848",
     "exception": false,
     "start_time": "2023-01-12T14:15:29.907423",
     "status": "completed"
    },
    "tags": []
   },
   "outputs": [],
   "source": [
    "#q2.hint()\n",
    "#q2.solution()"
   ]
  },
  {
   "cell_type": "markdown",
   "id": "7ed21a56",
   "metadata": {
    "papermill": {
     "duration": 0.005159,
     "end_time": "2023-01-12T14:15:29.932722",
     "exception": false,
     "start_time": "2023-01-12T14:15:29.927563",
     "status": "completed"
    },
    "tags": []
   },
   "source": [
    "## 3.\n",
    "The [Things on Reddit](https://www.kaggle.com/residentmario/things-on-reddit/data) dataset includes product links from a selection of top-ranked forums (\"subreddits\") on reddit.com. Run the cell below to load a dataframe of products mentioned on the */r/gaming* subreddit and another dataframe for products mentioned on the *r//movies* subreddit."
   ]
  },
  {
   "cell_type": "code",
   "execution_count": 7,
   "id": "cc4c07b9",
   "metadata": {
    "execution": {
     "iopub.execute_input": "2023-01-12T14:15:29.945374Z",
     "iopub.status.busy": "2023-01-12T14:15:29.945039Z",
     "iopub.status.idle": "2023-01-12T14:15:29.960812Z",
     "shell.execute_reply": "2023-01-12T14:15:29.959435Z"
    },
    "papermill": {
     "duration": 0.025451,
     "end_time": "2023-01-12T14:15:29.963715",
     "exception": false,
     "start_time": "2023-01-12T14:15:29.938264",
     "status": "completed"
    },
    "tags": []
   },
   "outputs": [],
   "source": [
    "gaming_products = pd.read_csv(\"../input/things-on-reddit/top-things/top-things/reddits/g/gaming.csv\")\n",
    "gaming_products['subreddit'] = \"r/gaming\"\n",
    "movie_products = pd.read_csv(\"../input/things-on-reddit/top-things/top-things/reddits/m/movies.csv\")\n",
    "movie_products['subreddit'] = \"r/movies\""
   ]
  },
  {
   "cell_type": "markdown",
   "id": "49f19f3f",
   "metadata": {
    "papermill": {
     "duration": 0.005017,
     "end_time": "2023-01-12T14:15:29.974289",
     "exception": false,
     "start_time": "2023-01-12T14:15:29.969272",
     "status": "completed"
    },
    "tags": []
   },
   "source": [
    "Create a `DataFrame` of products mentioned on *either* subreddit."
   ]
  },
  {
   "cell_type": "code",
   "execution_count": 8,
   "id": "519d2715",
   "metadata": {
    "execution": {
     "iopub.execute_input": "2023-01-12T14:15:29.986354Z",
     "iopub.status.busy": "2023-01-12T14:15:29.986031Z",
     "iopub.status.idle": "2023-01-12T14:15:29.999359Z",
     "shell.execute_reply": "2023-01-12T14:15:29.997974Z"
    },
    "papermill": {
     "duration": 0.022449,
     "end_time": "2023-01-12T14:15:30.001983",
     "exception": false,
     "start_time": "2023-01-12T14:15:29.979534",
     "status": "completed"
    },
    "tags": []
   },
   "outputs": [
    {
     "data": {
      "application/javascript": [
       "parent.postMessage({\"jupyterEvent\": \"custom.exercise_interaction\", \"data\": {\"outcomeType\": 1, \"valueTowardsCompletion\": 0.25, \"interactionType\": 1, \"questionType\": 2, \"questionId\": \"3_ConcatReddit\", \"learnToolsVersion\": \"0.3.4\", \"failureMessage\": \"\", \"exceptionClass\": \"\", \"trace\": \"\"}}, \"*\")"
      ],
      "text/plain": [
       "<IPython.core.display.Javascript object>"
      ]
     },
     "metadata": {},
     "output_type": "display_data"
    },
    {
     "data": {
      "text/markdown": [
       "<span style=\"color:#33cc33\">Correct</span>"
      ],
      "text/plain": [
       "Correct"
      ]
     },
     "metadata": {},
     "output_type": "display_data"
    }
   ],
   "source": [
    "combined_products = pd.concat([gaming_products, movie_products])\n",
    "\n",
    "# Check your answer\n",
    "q3.check()"
   ]
  },
  {
   "cell_type": "code",
   "execution_count": 9,
   "id": "5a7d3d08",
   "metadata": {
    "execution": {
     "iopub.execute_input": "2023-01-12T14:15:30.015429Z",
     "iopub.status.busy": "2023-01-12T14:15:30.015049Z",
     "iopub.status.idle": "2023-01-12T14:15:30.020790Z",
     "shell.execute_reply": "2023-01-12T14:15:30.019204Z"
    },
    "papermill": {
     "duration": 0.015384,
     "end_time": "2023-01-12T14:15:30.023434",
     "exception": false,
     "start_time": "2023-01-12T14:15:30.008050",
     "status": "completed"
    },
    "tags": []
   },
   "outputs": [],
   "source": [
    "#q3.hint()\n",
    "#q3.solution()"
   ]
  },
  {
   "cell_type": "markdown",
   "id": "e092d28c",
   "metadata": {
    "papermill": {
     "duration": 0.005157,
     "end_time": "2023-01-12T14:15:30.034452",
     "exception": false,
     "start_time": "2023-01-12T14:15:30.029295",
     "status": "completed"
    },
    "tags": []
   },
   "source": [
    "## 4.\n",
    "The [Powerlifting Database](https://www.kaggle.com/open-powerlifting/powerlifting-database) dataset on Kaggle includes one CSV table for powerlifting meets and a separate one for powerlifting competitors. Run the cell below to load these datasets into dataframes:"
   ]
  },
  {
   "cell_type": "code",
   "execution_count": 10,
   "id": "d7dce5db",
   "metadata": {
    "execution": {
     "iopub.execute_input": "2023-01-12T14:15:30.048142Z",
     "iopub.status.busy": "2023-01-12T14:15:30.047797Z",
     "iopub.status.idle": "2023-01-12T14:15:30.546938Z",
     "shell.execute_reply": "2023-01-12T14:15:30.545680Z"
    },
    "papermill": {
     "duration": 0.509104,
     "end_time": "2023-01-12T14:15:30.549401",
     "exception": false,
     "start_time": "2023-01-12T14:15:30.040297",
     "status": "completed"
    },
    "tags": []
   },
   "outputs": [],
   "source": [
    "powerlifting_meets = pd.read_csv(\"../input/powerlifting-database/meets.csv\")\n",
    "powerlifting_competitors = pd.read_csv(\"../input/powerlifting-database/openpowerlifting.csv\")"
   ]
  },
  {
   "cell_type": "markdown",
   "id": "43af961f",
   "metadata": {
    "papermill": {
     "duration": 0.005312,
     "end_time": "2023-01-12T14:15:30.560357",
     "exception": false,
     "start_time": "2023-01-12T14:15:30.555045",
     "status": "completed"
    },
    "tags": []
   },
   "source": [
    "Both tables include references to a `MeetID`, a unique key for each meet (competition) included in the database. Using this, generate a dataset combining the two tables into one."
   ]
  },
  {
   "cell_type": "code",
   "execution_count": 11,
   "id": "c463cbf5",
   "metadata": {
    "execution": {
     "iopub.execute_input": "2023-01-12T14:15:30.573028Z",
     "iopub.status.busy": "2023-01-12T14:15:30.572700Z",
     "iopub.status.idle": "2023-01-12T14:15:31.421171Z",
     "shell.execute_reply": "2023-01-12T14:15:31.420282Z"
    },
    "papermill": {
     "duration": 0.857735,
     "end_time": "2023-01-12T14:15:31.423649",
     "exception": false,
     "start_time": "2023-01-12T14:15:30.565914",
     "status": "completed"
    },
    "tags": []
   },
   "outputs": [
    {
     "data": {
      "application/javascript": [
       "parent.postMessage({\"jupyterEvent\": \"custom.exercise_interaction\", \"data\": {\"outcomeType\": 1, \"valueTowardsCompletion\": 0.25, \"interactionType\": 1, \"questionType\": 2, \"questionId\": \"4_JoinLifting\", \"learnToolsVersion\": \"0.3.4\", \"failureMessage\": \"\", \"exceptionClass\": \"\", \"trace\": \"\"}}, \"*\")"
      ],
      "text/plain": [
       "<IPython.core.display.Javascript object>"
      ]
     },
     "metadata": {},
     "output_type": "display_data"
    },
    {
     "data": {
      "text/markdown": [
       "<span style=\"color:#33cc33\">Correct</span>"
      ],
      "text/plain": [
       "Correct"
      ]
     },
     "metadata": {},
     "output_type": "display_data"
    }
   ],
   "source": [
    "powerlifting_combined = powerlifting_meets.set_index(\"MeetID\").join(powerlifting_competitors.set_index(\"MeetID\"))\n",
    "\n",
    "# Check your answer\n",
    "q4.check()"
   ]
  },
  {
   "cell_type": "code",
   "execution_count": 12,
   "id": "372acdb0",
   "metadata": {
    "execution": {
     "iopub.execute_input": "2023-01-12T14:15:31.438850Z",
     "iopub.status.busy": "2023-01-12T14:15:31.438441Z",
     "iopub.status.idle": "2023-01-12T14:15:31.444091Z",
     "shell.execute_reply": "2023-01-12T14:15:31.442676Z"
    },
    "papermill": {
     "duration": 0.016184,
     "end_time": "2023-01-12T14:15:31.446357",
     "exception": false,
     "start_time": "2023-01-12T14:15:31.430173",
     "status": "completed"
    },
    "tags": []
   },
   "outputs": [],
   "source": [
    "#q4.hint()\n",
    "#q4.solution()"
   ]
  },
  {
   "cell_type": "markdown",
   "id": "9279a0a1",
   "metadata": {
    "papermill": {
     "duration": 0.005538,
     "end_time": "2023-01-12T14:15:31.457850",
     "exception": false,
     "start_time": "2023-01-12T14:15:31.452312",
     "status": "completed"
    },
    "tags": []
   },
   "source": [
    "# Congratulations!\n",
    "\n",
    "You've finished the Pandas micro-course.  Many data scientists feel efficiency with Pandas is the most useful and practical skill they have, because it allows you to progress quickly in any project you have.\n",
    "\n",
    "If you'd like to apply your new skills to examining geospatial data, you're encouraged to check out our **[Geospatial Analysis](https://www.kaggle.com/learn/geospatial-analysis)** micro-course.\n",
    "\n",
    "You can also take advantage of your Pandas skills by entering a **[Kaggle Competition](https://www.kaggle.com/competitions)** or by answering a question you find interesting using **[Kaggle Datasets](https://www.kaggle.com/datasets)**."
   ]
  },
  {
   "cell_type": "markdown",
   "id": "3d19353c",
   "metadata": {
    "papermill": {
     "duration": 0.005469,
     "end_time": "2023-01-12T14:15:31.469246",
     "exception": false,
     "start_time": "2023-01-12T14:15:31.463777",
     "status": "completed"
    },
    "tags": []
   },
   "source": [
    "---\n",
    "\n",
    "\n",
    "\n",
    "\n",
    "*Have questions or comments? Visit the [course discussion forum](https://www.kaggle.com/learn/pandas/discussion) to chat with other learners.*"
   ]
  }
 ],
 "metadata": {
  "kernelspec": {
   "display_name": "Python 3",
   "language": "python",
   "name": "python3"
  },
  "language_info": {
   "codemirror_mode": {
    "name": "ipython",
    "version": 3
   },
   "file_extension": ".py",
   "mimetype": "text/x-python",
   "name": "python",
   "nbconvert_exporter": "python",
   "pygments_lexer": "ipython3",
   "version": "3.7.12"
  },
  "papermill": {
   "default_parameters": {},
   "duration": 14.433682,
   "end_time": "2023-01-12T14:15:32.297575",
   "environment_variables": {},
   "exception": null,
   "input_path": "__notebook__.ipynb",
   "output_path": "__notebook__.ipynb",
   "parameters": {},
   "start_time": "2023-01-12T14:15:17.863893",
   "version": "2.3.4"
  }
 },
 "nbformat": 4,
 "nbformat_minor": 5
}
