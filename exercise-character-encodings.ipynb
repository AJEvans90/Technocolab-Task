{
 "cells": [
  {
   "cell_type": "markdown",
   "id": "b050cd35",
   "metadata": {
    "papermill": {
     "duration": 0.00473,
     "end_time": "2023-01-14T10:11:21.266886",
     "exception": false,
     "start_time": "2023-01-14T10:11:21.262156",
     "status": "completed"
    },
    "tags": []
   },
   "source": [
    "**This notebook is an exercise in the [Data Cleaning](https://www.kaggle.com/learn/data-cleaning) course.  You can reference the tutorial at [this link](https://www.kaggle.com/alexisbcook/character-encodings).**\n",
    "\n",
    "---\n"
   ]
  },
  {
   "cell_type": "markdown",
   "id": "923f3252",
   "metadata": {
    "papermill": {
     "duration": 0.00346,
     "end_time": "2023-01-14T10:11:21.274175",
     "exception": false,
     "start_time": "2023-01-14T10:11:21.270715",
     "status": "completed"
    },
    "tags": []
   },
   "source": [
    "In this exercise, you'll apply what you learned in the **Character encodings** tutorial.\n",
    "\n",
    "# Setup\n",
    "\n",
    "The questions below will give you feedback on your work. Run the following cell to set up the feedback system."
   ]
  },
  {
   "cell_type": "code",
   "execution_count": 1,
   "id": "9673d5e7",
   "metadata": {
    "execution": {
     "iopub.execute_input": "2023-01-14T10:11:21.283742Z",
     "iopub.status.busy": "2023-01-14T10:11:21.283250Z",
     "iopub.status.idle": "2023-01-14T10:11:21.381944Z",
     "shell.execute_reply": "2023-01-14T10:11:21.380971Z"
    },
    "papermill": {
     "duration": 0.10648,
     "end_time": "2023-01-14T10:11:21.384442",
     "exception": false,
     "start_time": "2023-01-14T10:11:21.277962",
     "status": "completed"
    },
    "tags": []
   },
   "outputs": [
    {
     "name": "stdout",
     "output_type": "stream",
     "text": [
      "Setup Complete\n"
     ]
    }
   ],
   "source": [
    "from learntools.core import binder\n",
    "binder.bind(globals())\n",
    "from learntools.data_cleaning.ex4 import *\n",
    "print(\"Setup Complete\")"
   ]
  },
  {
   "cell_type": "markdown",
   "id": "1deca59f",
   "metadata": {
    "papermill": {
     "duration": 0.003735,
     "end_time": "2023-01-14T10:11:21.392431",
     "exception": false,
     "start_time": "2023-01-14T10:11:21.388696",
     "status": "completed"
    },
    "tags": []
   },
   "source": [
    "# Get our environment set up\n",
    "\n",
    "The first thing we'll need to do is load in the libraries we'll be using."
   ]
  },
  {
   "cell_type": "code",
   "execution_count": 2,
   "id": "0beef4a2",
   "metadata": {
    "execution": {
     "iopub.execute_input": "2023-01-14T10:11:21.402978Z",
     "iopub.status.busy": "2023-01-14T10:11:21.401807Z",
     "iopub.status.idle": "2023-01-14T10:11:21.406857Z",
     "shell.execute_reply": "2023-01-14T10:11:21.406103Z"
    },
    "papermill": {
     "duration": 0.012787,
     "end_time": "2023-01-14T10:11:21.409315",
     "exception": false,
     "start_time": "2023-01-14T10:11:21.396528",
     "status": "completed"
    },
    "tags": []
   },
   "outputs": [],
   "source": [
    "# modules we'll use\n",
    "import pandas as pd\n",
    "import numpy as np\n",
    "\n",
    "# helpful character encoding module\n",
    "import chardet\n",
    "\n",
    "# set seed for reproducibility\n",
    "np.random.seed(0)"
   ]
  },
  {
   "cell_type": "markdown",
   "id": "52f07cd1",
   "metadata": {
    "papermill": {
     "duration": 0.004361,
     "end_time": "2023-01-14T10:11:21.417852",
     "exception": false,
     "start_time": "2023-01-14T10:11:21.413491",
     "status": "completed"
    },
    "tags": []
   },
   "source": [
    "# 1) What are encodings?\n",
    "\n",
    "You're working with a dataset composed of bytes.  Run the code cell below to print a sample entry."
   ]
  },
  {
   "cell_type": "code",
   "execution_count": 3,
   "id": "f60bd246",
   "metadata": {
    "execution": {
     "iopub.execute_input": "2023-01-14T10:11:21.428028Z",
     "iopub.status.busy": "2023-01-14T10:11:21.427493Z",
     "iopub.status.idle": "2023-01-14T10:11:21.432899Z",
     "shell.execute_reply": "2023-01-14T10:11:21.431450Z"
    },
    "papermill": {
     "duration": 0.013431,
     "end_time": "2023-01-14T10:11:21.435536",
     "exception": false,
     "start_time": "2023-01-14T10:11:21.422105",
     "status": "completed"
    },
    "tags": []
   },
   "outputs": [
    {
     "name": "stdout",
     "output_type": "stream",
     "text": [
      "b'\\xa7A\\xa6n'\n",
      "data type: <class 'bytes'>\n"
     ]
    }
   ],
   "source": [
    "sample_entry = b'\\xa7A\\xa6n'\n",
    "print(sample_entry)\n",
    "print('data type:', type(sample_entry))"
   ]
  },
  {
   "cell_type": "markdown",
   "id": "693938b6",
   "metadata": {
    "papermill": {
     "duration": 0.003744,
     "end_time": "2023-01-14T10:11:21.443466",
     "exception": false,
     "start_time": "2023-01-14T10:11:21.439722",
     "status": "completed"
    },
    "tags": []
   },
   "source": [
    "You notice that it doesn't use the standard UTF-8 encoding. \n",
    "\n",
    "Use the next code cell to create a variable `new_entry` that changes the encoding from `\"big5-tw\"` to `\"utf-8\"`.  `new_entry` should have the bytes datatype."
   ]
  },
  {
   "cell_type": "code",
   "execution_count": 4,
   "id": "87d4d7b9",
   "metadata": {
    "execution": {
     "iopub.execute_input": "2023-01-14T10:11:21.453364Z",
     "iopub.status.busy": "2023-01-14T10:11:21.452984Z",
     "iopub.status.idle": "2023-01-14T10:11:21.462984Z",
     "shell.execute_reply": "2023-01-14T10:11:21.461834Z"
    },
    "papermill": {
     "duration": 0.017381,
     "end_time": "2023-01-14T10:11:21.464840",
     "exception": false,
     "start_time": "2023-01-14T10:11:21.447459",
     "status": "completed"
    },
    "tags": []
   },
   "outputs": [
    {
     "data": {
      "application/javascript": [
       "parent.postMessage({\"jupyterEvent\": \"custom.exercise_interaction\", \"data\": {\"outcomeType\": 1, \"valueTowardsCompletion\": 0.3333333333333333, \"interactionType\": 1, \"questionType\": 1, \"questionId\": \"1_EncodingsIntro\", \"learnToolsVersion\": \"0.3.4\", \"failureMessage\": \"\", \"exceptionClass\": \"\", \"trace\": \"\"}}, \"*\")"
      ],
      "text/plain": [
       "<IPython.core.display.Javascript object>"
      ]
     },
     "metadata": {},
     "output_type": "display_data"
    },
    {
     "data": {
      "text/markdown": [
       "<span style=\"color:#33cc33\">Correct</span>"
      ],
      "text/plain": [
       "Correct"
      ]
     },
     "metadata": {},
     "output_type": "display_data"
    }
   ],
   "source": [
    "new_entry =  sample_entry.decode('big5-tw').encode('utf-8')\n",
    "\n",
    "# Check your answer\n",
    "q1.check()"
   ]
  },
  {
   "cell_type": "code",
   "execution_count": 5,
   "id": "956d94ec",
   "metadata": {
    "execution": {
     "iopub.execute_input": "2023-01-14T10:11:21.475914Z",
     "iopub.status.busy": "2023-01-14T10:11:21.475387Z",
     "iopub.status.idle": "2023-01-14T10:11:21.479404Z",
     "shell.execute_reply": "2023-01-14T10:11:21.478239Z"
    },
    "papermill": {
     "duration": 0.012212,
     "end_time": "2023-01-14T10:11:21.481655",
     "exception": false,
     "start_time": "2023-01-14T10:11:21.469443",
     "status": "completed"
    },
    "tags": []
   },
   "outputs": [],
   "source": [
    "# Lines below will give you a hint or solution code\n",
    "#q1.hint()\n",
    "#q1.solution()"
   ]
  },
  {
   "cell_type": "markdown",
   "id": "b7b953fe",
   "metadata": {
    "papermill": {
     "duration": 0.004159,
     "end_time": "2023-01-14T10:11:21.490500",
     "exception": false,
     "start_time": "2023-01-14T10:11:21.486341",
     "status": "completed"
    },
    "tags": []
   },
   "source": [
    "# 2) Reading in files with encoding problems\n",
    "\n",
    "Use the code cell below to read in this file at path `\"../input/fatal-police-shootings-in-the-us/PoliceKillingsUS.csv\"`.  \n",
    "\n",
    "Figure out what the correct encoding should be and read in the file to a DataFrame `police_killings`."
   ]
  },
  {
   "cell_type": "code",
   "execution_count": 6,
   "id": "a400bc5e",
   "metadata": {
    "execution": {
     "iopub.execute_input": "2023-01-14T10:11:21.501924Z",
     "iopub.status.busy": "2023-01-14T10:11:21.501302Z",
     "iopub.status.idle": "2023-01-14T10:11:24.272783Z",
     "shell.execute_reply": "2023-01-14T10:11:24.271615Z"
    },
    "papermill": {
     "duration": 2.780508,
     "end_time": "2023-01-14T10:11:24.275887",
     "exception": false,
     "start_time": "2023-01-14T10:11:21.495379",
     "status": "completed"
    },
    "tags": []
   },
   "outputs": [
    {
     "data": {
      "application/javascript": [
       "parent.postMessage({\"jupyterEvent\": \"custom.exercise_interaction\", \"data\": {\"outcomeType\": 1, \"valueTowardsCompletion\": 0.3333333333333333, \"interactionType\": 1, \"questionType\": 1, \"questionId\": \"2_ReadIn\", \"learnToolsVersion\": \"0.3.4\", \"failureMessage\": \"\", \"exceptionClass\": \"\", \"trace\": \"\"}}, \"*\")"
      ],
      "text/plain": [
       "<IPython.core.display.Javascript object>"
      ]
     },
     "metadata": {},
     "output_type": "display_data"
    },
    {
     "data": {
      "text/markdown": [
       "<span style=\"color:#33cc33\">Correct</span>"
      ],
      "text/plain": [
       "Correct"
      ]
     },
     "metadata": {},
     "output_type": "display_data"
    }
   ],
   "source": [
    "# TODO: Load in the DataFrame correctly.\n",
    "with open(\"../input/fatal-police-shootings-in-the-us/PoliceKillingsUS.csv\", 'rb') as fp:\n",
    "    enc = chardet.detect(fp.read())\n",
    "police_killings = pd.read_csv(\"../input/fatal-police-shootings-in-the-us/PoliceKillingsUS.csv\", encoding=enc['encoding'])\n",
    "\n",
    "# Check your answer\n",
    "q2.check()"
   ]
  },
  {
   "cell_type": "markdown",
   "id": "2c0b0545",
   "metadata": {
    "papermill": {
     "duration": 0.004846,
     "end_time": "2023-01-14T10:11:24.286198",
     "exception": false,
     "start_time": "2023-01-14T10:11:24.281352",
     "status": "completed"
    },
    "tags": []
   },
   "source": [
    "Feel free to use any additional code cells for supplemental work.  To get credit for finishing this question, you'll need to run `q2.check()` and get a result of **Correct**."
   ]
  },
  {
   "cell_type": "code",
   "execution_count": 7,
   "id": "6696f200",
   "metadata": {
    "execution": {
     "iopub.execute_input": "2023-01-14T10:11:24.297367Z",
     "iopub.status.busy": "2023-01-14T10:11:24.296933Z",
     "iopub.status.idle": "2023-01-14T10:11:24.302568Z",
     "shell.execute_reply": "2023-01-14T10:11:24.301077Z"
    },
    "papermill": {
     "duration": 0.013575,
     "end_time": "2023-01-14T10:11:24.304693",
     "exception": false,
     "start_time": "2023-01-14T10:11:24.291118",
     "status": "completed"
    },
    "tags": []
   },
   "outputs": [],
   "source": [
    "# (Optional) Use this code cell for any additional work."
   ]
  },
  {
   "cell_type": "code",
   "execution_count": 8,
   "id": "a4a063ca",
   "metadata": {
    "execution": {
     "iopub.execute_input": "2023-01-14T10:11:24.317324Z",
     "iopub.status.busy": "2023-01-14T10:11:24.316105Z",
     "iopub.status.idle": "2023-01-14T10:11:24.321552Z",
     "shell.execute_reply": "2023-01-14T10:11:24.320096Z"
    },
    "papermill": {
     "duration": 0.014063,
     "end_time": "2023-01-14T10:11:24.323785",
     "exception": false,
     "start_time": "2023-01-14T10:11:24.309722",
     "status": "completed"
    },
    "tags": []
   },
   "outputs": [],
   "source": [
    "# Lines below will give you a hint or solution code\n",
    "#q2.hint()\n",
    "#q2.solution()"
   ]
  },
  {
   "cell_type": "markdown",
   "id": "6e5413a3",
   "metadata": {
    "papermill": {
     "duration": 0.004411,
     "end_time": "2023-01-14T10:11:24.333039",
     "exception": false,
     "start_time": "2023-01-14T10:11:24.328628",
     "status": "completed"
    },
    "tags": []
   },
   "source": [
    "# 3) Saving your files with UTF-8 encoding\n",
    "\n",
    "Save a version of the police killings dataset to CSV with UTF-8 encoding.  Your answer will be marked correct after saving this file.  \n",
    "\n",
    "Note: When using the `to_csv()` method, supply only the name of the file (e.g., `\"my_file.csv\"`).  This saves the file at the filepath `\"/kaggle/working/my_file.csv\"`."
   ]
  },
  {
   "cell_type": "code",
   "execution_count": 9,
   "id": "de6241c4",
   "metadata": {
    "execution": {
     "iopub.execute_input": "2023-01-14T10:11:24.344608Z",
     "iopub.status.busy": "2023-01-14T10:11:24.344148Z",
     "iopub.status.idle": "2023-01-14T10:11:24.373870Z",
     "shell.execute_reply": "2023-01-14T10:11:24.372610Z"
    },
    "papermill": {
     "duration": 0.038053,
     "end_time": "2023-01-14T10:11:24.375888",
     "exception": false,
     "start_time": "2023-01-14T10:11:24.337835",
     "status": "completed"
    },
    "tags": []
   },
   "outputs": [
    {
     "data": {
      "application/javascript": [
       "parent.postMessage({\"jupyterEvent\": \"custom.exercise_interaction\", \"data\": {\"outcomeType\": 1, \"valueTowardsCompletion\": 0.3333333333333333, \"interactionType\": 1, \"questionType\": 2, \"questionId\": \"3_SaveCSV\", \"learnToolsVersion\": \"0.3.4\", \"failureMessage\": \"\", \"exceptionClass\": \"\", \"trace\": \"\"}}, \"*\")"
      ],
      "text/plain": [
       "<IPython.core.display.Javascript object>"
      ]
     },
     "metadata": {},
     "output_type": "display_data"
    },
    {
     "data": {
      "text/markdown": [
       "<span style=\"color:#33cc33\">Correct</span>"
      ],
      "text/plain": [
       "Correct"
      ]
     },
     "metadata": {},
     "output_type": "display_data"
    }
   ],
   "source": [
    "# TODO: Save the police killings dataset to CSV\n",
    "police_killings.to_csv('my_file.csv')\n",
    "\n",
    "# Check your answer\n",
    "q3.check()"
   ]
  },
  {
   "cell_type": "code",
   "execution_count": 10,
   "id": "7fe92364",
   "metadata": {
    "execution": {
     "iopub.execute_input": "2023-01-14T10:11:24.387970Z",
     "iopub.status.busy": "2023-01-14T10:11:24.387608Z",
     "iopub.status.idle": "2023-01-14T10:11:24.392504Z",
     "shell.execute_reply": "2023-01-14T10:11:24.391175Z"
    },
    "papermill": {
     "duration": 0.014075,
     "end_time": "2023-01-14T10:11:24.394910",
     "exception": false,
     "start_time": "2023-01-14T10:11:24.380835",
     "status": "completed"
    },
    "tags": []
   },
   "outputs": [],
   "source": [
    "# Lines below will give you a hint or solution code\n",
    "#q3.hint()\n",
    "#q3.solution()"
   ]
  },
  {
   "cell_type": "markdown",
   "id": "71bc4332",
   "metadata": {
    "papermill": {
     "duration": 0.004495,
     "end_time": "2023-01-14T10:11:24.404430",
     "exception": false,
     "start_time": "2023-01-14T10:11:24.399935",
     "status": "completed"
    },
    "tags": []
   },
   "source": [
    "# (Optional) More practice\n",
    "\n",
    "Check out [this dataset of files in different character encodings](https://www.kaggle.com/rtatman/character-encoding-examples). Can you read in all the files with their original encodings and them save them out as UTF-8 files?\n",
    "\n",
    "If you have a file that's in UTF-8 but has just a couple of weird-looking characters in it, you can try out the [ftfy module](https://ftfy.readthedocs.io/en/latest/#) and see if it helps. \n",
    "\n",
    "# Keep going\n",
    "\n",
    "In the final lesson, learn how to [**clean up inconsistent text entries**](https://www.kaggle.com/alexisbcook/inconsistent-data-entry) in your dataset."
   ]
  },
  {
   "cell_type": "markdown",
   "id": "66261c83",
   "metadata": {
    "papermill": {
     "duration": 0.004413,
     "end_time": "2023-01-14T10:11:24.413487",
     "exception": false,
     "start_time": "2023-01-14T10:11:24.409074",
     "status": "completed"
    },
    "tags": []
   },
   "source": [
    "---\n",
    "\n",
    "\n",
    "\n",
    "\n",
    "*Have questions or comments? Visit the [course discussion forum](https://www.kaggle.com/learn/data-cleaning/discussion) to chat with other learners.*"
   ]
  }
 ],
 "metadata": {
  "kernelspec": {
   "display_name": "Python 3",
   "language": "python",
   "name": "python3"
  },
  "language_info": {
   "codemirror_mode": {
    "name": "ipython",
    "version": 3
   },
   "file_extension": ".py",
   "mimetype": "text/x-python",
   "name": "python",
   "nbconvert_exporter": "python",
   "pygments_lexer": "ipython3",
   "version": "3.7.12"
  },
  "papermill": {
   "default_parameters": {},
   "duration": 10.995171,
   "end_time": "2023-01-14T10:11:25.039086",
   "environment_variables": {},
   "exception": null,
   "input_path": "__notebook__.ipynb",
   "output_path": "__notebook__.ipynb",
   "parameters": {},
   "start_time": "2023-01-14T10:11:14.043915",
   "version": "2.3.4"
  }
 },
 "nbformat": 4,
 "nbformat_minor": 5
}
